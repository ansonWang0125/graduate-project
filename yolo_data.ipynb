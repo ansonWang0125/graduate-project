{
 "cells": [
  {
   "cell_type": "code",
   "execution_count": 1,
   "id": "98197bf6-a2e6-4223-ba65-7e24ca667512",
   "metadata": {
    "tags": []
   },
   "outputs": [],
   "source": [
    "import glob\n",
    "import SimpleITK as sitk\n",
    "import numpy as np\n",
    "import collections\n",
    "from PIL import Image, ImageDraw\n",
    "from segmentation import segment, init_segment_model\n",
    "import os\n",
    "import csv\n",
    "import collections\n",
    "from collections import namedtuple \n",
    "import random"
   ]
  },
  {
   "cell_type": "code",
   "execution_count": 2,
   "id": "a64f0599-d8da-4c42-bfd6-18b54f2a511a",
   "metadata": {
    "tags": []
   },
   "outputs": [],
   "source": [
    "# mhd_list = glob.glob('D:/LUNA/Luna16_SegData/subset*/*.mhd')\n",
    "mhd_list = glob.glob('D:/LUNA/Luna16_AugData/subset*/*.mhd')\n",
    "CandidateInfoTuple = namedtuple('CandidateInfoTuple', 'isNodule_bool, hasAnnotation_bool, isMal_bool, diameter_mm, series_uid, center_xyz, classes')\n",
    "requireOnDisk_bool=True\n",
    "presentOnDisk_set = {os.path.split(p)[-1][:-4] for p in mhd_list}\n",
    "\n",
    "candidateInfo_list = []\n",
    "with open('C:/Users/oplab/Desktop/Luna16_data/annotations_with_malignancy.csv', \"r\") as f:\n",
    "    for row in list(csv.reader(f))[1:]:\n",
    "        series_uid = row[0]\n",
    "        annotationCenter_xyz = tuple([float(x) for x in row[1:4]])\n",
    "        annotationDiameter_mm = float(row[4])\n",
    "        isMal_bool = {'False': False, 'True': True}[row[5]] #it record the malignancy or not\n",
    "        classes = 1 if isMal_bool else 2\n",
    "\n",
    "        if series_uid not in presentOnDisk_set and requireOnDisk_bool:\n",
    "            continue\n",
    "\n",
    "        candidateInfo_list.append(\n",
    "            CandidateInfoTuple(\n",
    "                True,\n",
    "                True,\n",
    "                isMal_bool,\n",
    "                annotationDiameter_mm,\n",
    "                series_uid,\n",
    "                annotationCenter_xyz,\n",
    "                classes\n",
    "            )\n",
    "        )"
   ]
  },
  {
   "cell_type": "code",
   "execution_count": 3,
   "id": "2b5d7b50-6a48-40ad-ab7a-6686183c8214",
   "metadata": {},
   "outputs": [],
   "source": [
    "random.seed(42)\n",
    "random.shuffle(candidateInfo_list)"
   ]
  },
  {
   "cell_type": "code",
   "execution_count": 4,
   "id": "a9a274dc-4c7f-4f37-8e06-5c89e830cc03",
   "metadata": {},
   "outputs": [
    {
     "name": "stdout",
     "output_type": "stream",
     "text": [
      "1182\n"
     ]
    }
   ],
   "source": [
    "print(len(candidateInfo_list))"
   ]
  },
  {
   "cell_type": "code",
   "execution_count": 5,
   "id": "0ea147ef-4fe3-4fac-b773-101b46353f75",
   "metadata": {},
   "outputs": [],
   "source": [
    "XyzTuple = collections.namedtuple('XyzTuple', ['x', 'y', 'z'])\n",
    "IrcTuple = collections.namedtuple('IrcTuple', ['index', 'row', 'col'])\n",
    "def xyz2irc(coord_xyz, origin_xyz, vxSize_xyz, direction_a):\n",
    "    origin_a = np.array(origin_xyz)\n",
    "    vxSize_a = np.array(vxSize_xyz)\n",
    "    coord_a = np.array(coord_xyz)\n",
    "    cri_a = ((coord_a - origin_a) @ np.linalg.inv(direction_a)) / vxSize_a\n",
    "    cri_a = np.round(cri_a)\n",
    "    return IrcTuple(int(cri_a[2]), int(cri_a[1]), int(cri_a[0]))"
   ]
  },
  {
   "cell_type": "code",
   "execution_count": 6,
   "id": "0f76a048-3573-4e93-bcb5-3f5abfa23341",
   "metadata": {},
   "outputs": [],
   "source": [
    "def np2MarkPng(np_arr, target_path, row, col):\n",
    "    min_value = np.min(np_arr)\n",
    "    max_value = np.max(np_arr)\n",
    "    scaled_np_arr = (np_arr - min_value) / (max_value - min_value) * 255\n",
    "    scaled_np_arr = scaled_np_arr.astype(np.uint8)\n",
    "    slices = Image.fromarray(scaled_np_arr, mode='L')\n",
    "    draw = ImageDraw.Draw(slices)\n",
    "    x1, y1, x2, y2 = col-10, row-10, col+10, row+10\n",
    "    draw.rectangle([x1, y1, x2, y2], outline=\"white\", width=1)\n",
    "    slices.save(target_path)"
   ]
  },
  {
   "cell_type": "code",
   "execution_count": 7,
   "id": "933bf9a2-6a3e-46ad-8fe4-bc5c5ace5ac7",
   "metadata": {},
   "outputs": [],
   "source": [
    "def np2Png(np_arr, target_path):\n",
    "    min_value = np.min(np_arr)\n",
    "    max_value = np.max(np_arr)\n",
    "    scaled_np_arr = (np_arr - min_value) / (max_value - min_value) * 255\n",
    "    scaled_np_arr = scaled_np_arr.astype(np.uint8)\n",
    "    slices = Image.fromarray(scaled_np_arr, mode='L')\n",
    "    slices.save(target_path)"
   ]
  },
  {
   "cell_type": "code",
   "execution_count": 25,
   "id": "5053b670-164b-4353-b5aa-4f15034ec929",
   "metadata": {},
   "outputs": [
    {
     "ename": "KeyboardInterrupt",
     "evalue": "",
     "output_type": "error",
     "traceback": [
      "\u001b[1;31m---------------------------------------------------------------------------\u001b[0m",
      "\u001b[1;31mKeyboardInterrupt\u001b[0m                         Traceback (most recent call last)",
      "Cell \u001b[1;32mIn[25], line 16\u001b[0m\n\u001b[0;32m     13\u001b[0m \u001b[38;5;28;01mif\u001b[39;00m ct_mhd\u001b[38;5;241m.\u001b[39mGetDimension()\u001b[38;5;241m==\u001b[39m\u001b[38;5;241m4\u001b[39m \u001b[38;5;129;01mand\u001b[39;00m ct_mhd\u001b[38;5;241m.\u001b[39mGetSize()[\u001b[38;5;241m3\u001b[39m]\u001b[38;5;241m==\u001b[39m\u001b[38;5;241m1\u001b[39m:\n\u001b[0;32m     14\u001b[0m     ct_mhd \u001b[38;5;241m=\u001b[39m ct_mhd[\u001b[38;5;241m.\u001b[39m\u001b[38;5;241m.\u001b[39m\u001b[38;5;241m.\u001b[39m,\u001b[38;5;241m0\u001b[39m]\n\u001b[1;32m---> 16\u001b[0m hu_a \u001b[38;5;241m=\u001b[39m np\u001b[38;5;241m.\u001b[39marray(sitk\u001b[38;5;241m.\u001b[39mGetArrayFromImage(ct_mhd), dtype\u001b[38;5;241m=\u001b[39mnp\u001b[38;5;241m.\u001b[39mfloat32)\n\u001b[0;32m     18\u001b[0m origin_xyz \u001b[38;5;241m=\u001b[39m XyzTuple(\u001b[38;5;241m*\u001b[39mct_mhd\u001b[38;5;241m.\u001b[39mGetOrigin())\n\u001b[0;32m     20\u001b[0m vxSize_xyz \u001b[38;5;241m=\u001b[39m XyzTuple(\u001b[38;5;241m*\u001b[39mct_mhd\u001b[38;5;241m.\u001b[39mGetSpacing())\n",
      "File \u001b[1;32m~\\anaconda3\\Lib\\site-packages\\SimpleITK\\extra.py:260\u001b[0m, in \u001b[0;36mGetArrayFromImage\u001b[1;34m(image)\u001b[0m\n\u001b[0;32m    255\u001b[0m     array_view\u001b[38;5;241m.\u001b[39mshape \u001b[38;5;241m=\u001b[39m shape[::\u001b[38;5;241m-\u001b[39m\u001b[38;5;241m1\u001b[39m]\n\u001b[0;32m    257\u001b[0m     \u001b[38;5;28;01mreturn\u001b[39;00m array_view\n\u001b[1;32m--> 260\u001b[0m \u001b[38;5;28;01mdef\u001b[39;00m \u001b[38;5;21mGetArrayFromImage\u001b[39m(image: Image) \u001b[38;5;241m-\u001b[39m\u001b[38;5;241m>\u001b[39m \u001b[38;5;124m\"\u001b[39m\u001b[38;5;124mnumpy.ndarray\u001b[39m\u001b[38;5;124m\"\u001b[39m:\n\u001b[0;32m    261\u001b[0m \u001b[38;5;250m    \u001b[39m\u001b[38;5;124;03m\"\"\"Get a NumPy ndarray from a SimpleITK Image.\u001b[39;00m\n\u001b[0;32m    262\u001b[0m \n\u001b[0;32m    263\u001b[0m \u001b[38;5;124;03m    This is a deep copy of the image buffer and is completely safe and without potential side effects.\u001b[39;00m\n\u001b[0;32m    264\u001b[0m \u001b[38;5;124;03m    \"\"\"\u001b[39;00m\n\u001b[0;32m    266\u001b[0m     \u001b[38;5;66;03m# TODO: If the image is already not unique then a second copy may be made before the numpy copy is done.\u001b[39;00m\n",
      "\u001b[1;31mKeyboardInterrupt\u001b[0m: "
     ]
    }
   ],
   "source": [
    "# subdir_ori = [\"segment\", \"segment_aug1\", \"segment_aug2\"]\n",
    "# subdir_mark = [\"segment_mark\", \"segment_mark_aug1\", \"segment_mark_aug2\"]\n",
    "subdir_ori = [\"origin\", \"origin_aug1\", \"origin_aug2\"]\n",
    "subdir_mark = [\"segment_mark\", \"origin_mark_aug1\", \"origin_mark_aug2\"]\n",
    "# temp_a = np.zeros((2, 512, 512))\n",
    "# temp_irc = np.zeros((2, 3))\n",
    "for i, candidateInfo_tuple in enumerate(candidateInfo_list):\n",
    "    # mhd_path = glob.glob('D:/LUNA/Luna16_SegData/subset*/{}.mhd'.format(candidateInfo_tuple.series_uid))\n",
    "    mhd_path = glob.glob('D:/LUNA/Luna16_AugData/subset*/{}.mhd'.format(candidateInfo_tuple.series_uid))\n",
    "\n",
    "    ct_mhd = sitk.ReadImage(mhd_path)\n",
    "\n",
    "    if ct_mhd.GetDimension()==4 and ct_mhd.GetSize()[3]==1:\n",
    "        ct_mhd = ct_mhd[...,0]\n",
    "        \n",
    "    hu_a = np.array(sitk.GetArrayFromImage(ct_mhd), dtype=np.float32)\n",
    "\n",
    "    origin_xyz = XyzTuple(*ct_mhd.GetOrigin())\n",
    "\n",
    "    vxSize_xyz = XyzTuple(*ct_mhd.GetSpacing())\n",
    "\n",
    "    direction_a = np.array(ct_mhd.GetDirection()).reshape(3, 3)\n",
    "    \n",
    "    center_irc = xyz2irc(candidateInfo_tuple.center_xyz, origin_xyz, vxSize_xyz, direction_a)\n",
    "    \n",
    "    index, row, column = center_irc\n",
    "    \n",
    "    offset = 0\n",
    "    \n",
    "    j = 0\n",
    "    \n",
    "    model, device = init_segment_model()\n",
    "    \n",
    "#     temp_a[i%2, :, :] = hu_a[index+j]\n",
    "    \n",
    "#     temp_irc[i%2, :] = np.array([index, row, column])\n",
    "    \n",
    "#     if i % 2 == 1:\n",
    "#         target = segment(temp_a, model, device)\n",
    "        # np2Png(target[0], \"D:/LUNA/yolo/{}/{}-({})_class-{}_{}_idx-{}_{}.png\".format(subdir_ori[offset], i - 1, j, candidateInfo_tuple.classes, subdir_ori[offset], temp_irc[0, 0], candidateInfo_tuple.series_uid))\n",
    "        # np2MarkPng(target[0], \"D:/LUNA/yolo/{}/{}-({})_class-{}_{}_idx-{}_{}.png\".format(subdir_mark[offset], i - 1, j, candidateInfo_tuple.classes, subdir_ori[offset], temp_irc[0, 0], candidateInfo_tuple.series_uid), temp_irc[0, 1], temp_irc[0, 2])\n",
    "#         np2Png(target[1], \"D:/LUNA/yolo/{}/{}-({})_class-{}_{}_idx-{}_{}.png\".format(subdir_ori[offset], i, j, candidateInfo_tuple.classes, subdir_ori[offset], temp_irc[1, 0], candidateInfo_tuple.series_uid))\n",
    "#         np2MarkPng(target[1], \"D:/LUNA/yolo/{}/{}-({})_class-{}_{}_idx-{}_{}.png\".format(subdir_mark[offset], i, j, candidateInfo_tuple.classes, subdir_ori[offset], temp_irc[1, 0], candidateInfo_tuple.series_uid), temp_irc[1, 1], temp_irc[1, 2])\n",
    "\n",
    "    hu_a_expanded = np.expand_dims(hu_a[index+j], axis=0)\n",
    "    target = segment(hu_a_expanded, model, device)\n",
    "    target = np.squeeze(target)\n",
    "    np2Png(hu_a[index+j], \"D:/LUNA/yolo/{}/{}-({})_class-{}_{}_idx-{}_{}.png\".format(subdir_ori[offset], i, j, candidateInfo_tuple.classes, subdir_ori[offset], index, candidateInfo_tuple.series_uid))\n",
    "    np2MarkPng(target, \"D:/LUNA/yolo/{}/{}-({})_class-{}_{}_idx-{}_{}.png\".format(subdir_mark[offset], i, j, candidateInfo_tuple.classes, subdir_ori[offset], index, candidateInfo_tuple.series_uid), row, column)\n",
    "    \n",
    "    # for j in range(-2, 3):\n",
    "    #     offset = (abs(j)) % 3\n",
    "    #     # if candidateInfo_tuple.classes == 0:\n",
    "    #         # np2Png(hu_a[index+j], \"D:/LUNA/yolo/{}/non-nodule/{}-({})_class-{}_{}_idx-{}_{}.png\".format(subdir_ori[offset], i, j, candidateInfo_tuple.classes, subdir_ori[offset], index, candidateInfo_tuple.series_uid))\n",
    "    #         # np2MarkPng(hu_a[index+j], \"D:/LUNA/yolo/{}/non-nodule/{}-({})_class-{}_{}_idx-{}_{}.png\".format(subdir_mark[offset], i, j, candidateInfo_tuple.classes, subdir_ori[offset], index, candidateInfo_tuple.series_uid), row, column)\n",
    "    #     # else:\n",
    "    #     if offset == 1:\n",
    "    #         np2Png(hu_a[index+j], \"D:/LUNA/yolo/{}/nodule/offset_{}/{}-({})_class-{}_{}_idx-{}_{}.png\".format(subdir_ori[offset], j, i, j, candidateInfo_tuple.classes, subdir_ori[offset], index, candidateInfo_tuple.series_uid))\n",
    "    #         np2MarkPng(hu_a[index+j], \"D:/LUNA/yolo/{}/nodule/offset_{}/{}-({})_class-{}_{}_idx-{}_{}.png\".format(subdir_mark[offset], j, i, j, candidateInfo_tuple.classes, subdir_ori[offset], index, candidateInfo_tuple.series_uid), row, column)\n",
    "    #     else:\n",
    "    #         np2Png(hu_a[index+j], \"D:/LUNA/yolo/{}/nodule/{}-({})_class-{}_{}_idx-{}_{}.png\".format(subdir_ori[offset], i, j, candidateInfo_tuple.classes, subdir_ori[offset], index, candidateInfo_tuple.series_uid))\n",
    "    #         np2MarkPng(hu_a[index+j], \"D:/LUNA/yolo/{}/nodule/{}-({})_class-{}_{}_idx-{}_{}.png\".format(subdir_mark[offset], i, j, candidateInfo_tuple.classes, subdir_ori[offset], index, candidateInfo_tuple.series_uid), row, column)"
   ]
  },
  {
   "cell_type": "code",
   "execution_count": null,
   "id": "2efe715c-f123-468e-8147-f37bae956d8a",
   "metadata": {},
   "outputs": [],
   "source": [
    "# for i, candidateInfo_tuple in enumerate(candidateInfo_list):\n",
    "#     # mhd_path = glob.glob('D:/LUNA/Luna16_SegData/subset*/{}.mhd'.format(candidateInfo_tuple.series_uid))\n",
    "#     mhd_path = glob.glob('D:/LUNA/Luna16_AugData/subset*/{}.mhd'.format(candidateInfo_tuple.series_uid))\n",
    "\n",
    "#     ct_mhd = sitk.ReadImage(mhd_path)\n",
    "\n",
    "#     if ct_mhd.GetDimension()==4 and ct_mhd.GetSize()[3]==1:\n",
    "#         ct_mhd = ct_mhd[...,0]\n",
    "        \n",
    "#     hu_a = np.array(sitk.GetArrayFromImage(ct_mhd), dtype=np.float32)\n",
    "\n",
    "#     origin_xyz = XyzTuple(*ct_mhd.GetOrigin())\n",
    "\n",
    "#     vxSize_xyz = XyzTuple(*ct_mhd.GetSpacing())\n",
    "\n",
    "#     direction_a = np.array(ct_mhd.GetDirection()).reshape(3, 3)\n",
    "    \n",
    "#     center_irc = xyz2irc(candidateInfo_tuple.center_xyz, origin_xyz, vxSize_xyz, direction_a)\n",
    "    \n",
    "#     index, row, column = center_irc\n",
    "\n",
    "\n",
    "# total_rate = 0\n",
    "# total = (512 * 512)\n",
    "# i = 0\n",
    "# average_rate = 0\n",
    "# for i in range(8001):\n",
    "#     # if (i % 10 == 0):\n",
    "#     #     # print(\"i = \", i)\n",
    "#     #     average_rate += (total_rate) / 10\n",
    "#     #     # print(\"avg = \", average_rate)\n",
    "#     #     total_rate = 0\n",
    "#     if (i % 1000 == 0):\n",
    "#         print(\"i = \", i)\n",
    "#         print(\"avg = \", average_rate)\n",
    "#     i += 1\n",
    "#     csum = (train_ds[i][1].sum())\n",
    "#     # print(\"sum = \", csum)\n",
    "#     total_rate += csum / total\n",
    "# average_rate = (total_rate) / 8000\n",
    "# print(average_rate)"
   ]
  },
  {
   "cell_type": "code",
   "execution_count": null,
   "id": "9ad88133-0c05-4865-984a-e23ab188f21c",
   "metadata": {
    "tags": []
   },
   "outputs": [],
   "source": [
    "# print(center_irc)"
   ]
  }
 ],
 "metadata": {
  "kernelspec": {
   "display_name": "Python 3 (ipykernel)",
   "language": "python",
   "name": "python3"
  },
  "language_info": {
   "codemirror_mode": {
    "name": "ipython",
    "version": 3
   },
   "file_extension": ".py",
   "mimetype": "text/x-python",
   "name": "python",
   "nbconvert_exporter": "python",
   "pygments_lexer": "ipython3",
   "version": "3.11.5"
  }
 },
 "nbformat": 4,
 "nbformat_minor": 5
}
