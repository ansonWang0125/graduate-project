{
 "cells": [
  {
   "cell_type": "code",
   "execution_count": 1,
   "id": "c7ac6a84-c5b2-4a92-92b5-1dbf635bbba1",
   "metadata": {
    "tags": []
   },
   "outputs": [],
   "source": [
    "from os.path import join\n",
    "from os import makedirs\n",
    "import csv\n",
    "import SimpleITK as sitk\n",
    "from tqdm import tqdm\n",
    "import numpy as np\n",
    "import scipy.ndimage.morphology\n",
    "from skimage import measure, filters\n",
    "from metrics import dc, jc, assd, sensitivity, specificity, precision, recall, intersection_percentage\n",
    "import matplotlib\n",
    "matplotlib.use('Agg')\n",
    "import matplotlib.pyplot as plt\n",
    "from nodule_segmentation import slice_segment\n",
    "import torch"
   ]
  },
  {
   "cell_type": "code",
   "execution_count": 7,
   "id": "b769c23c-5b22-4322-9590-0223ba64fc16",
   "metadata": {
    "tags": []
   },
   "outputs": [
    {
     "name": "stdout",
     "output_type": "stream",
     "text": [
      "IOU:  0.5945718599075746\n",
      "DICE:  0.725531446570411\n",
      "IP:  0.7058892203023766\n"
     ]
    }
   ],
   "source": [
    "import pandas as pd\n",
    "outdir = \"origin\"\n",
    "\n",
    "result_df = pd.read_csv('C://LUNA//udet//result//{}//average_nodule.csv'.format(outdir))\n",
    "print(\"IOU: \", result_df[\"IOU\"].mean())\n",
    "print(\"DICE: \", result_df[\"DICE\"].mean())\n",
    "print(\"IP: \", result_df[\"IP\"].mean())"
   ]
  }
 ],
 "metadata": {
  "kernelspec": {
   "display_name": "Python 3 (ipykernel)",
   "language": "python",
   "name": "python3"
  },
  "language_info": {
   "codemirror_mode": {
    "name": "ipython",
    "version": 3
   },
   "file_extension": ".py",
   "mimetype": "text/x-python",
   "name": "python",
   "nbconvert_exporter": "python",
   "pygments_lexer": "ipython3",
   "version": "3.11.5"
  }
 },
 "nbformat": 4,
 "nbformat_minor": 5
}
