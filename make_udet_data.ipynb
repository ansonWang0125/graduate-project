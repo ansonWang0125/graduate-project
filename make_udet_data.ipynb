{
 "cells": [
  {
   "cell_type": "code",
   "execution_count": 1,
   "id": "dab74cfe-d94a-4fbc-b069-fb84b50b01a1",
   "metadata": {
    "tags": []
   },
   "outputs": [],
   "source": [
    "import glob\n",
    "import SimpleITK as sitk\n",
    "import numpy as np\n",
    "import collections\n",
    "from PIL import Image, ImageDraw\n",
    "from segmentation import segment\n",
    "import os\n",
    "import csv\n",
    "import collections\n",
    "from collections import namedtuple \n",
    "import random\n",
    "from pylidc_func import masks_build, ann_group, ann_counter\n",
    "from nodule_segmentation import nodule_segment\n",
    "# import pylidc"
   ]
  },
  {
   "cell_type": "code",
   "execution_count": 4,
   "id": "cf034100-192a-4411-ab36-59ab8fb511d2",
   "metadata": {
    "tags": []
   },
   "outputs": [],
   "source": [
    "XyzTuple = collections.namedtuple('XyzTuple', ['x', 'y', 'z'])\n",
    "IrcTuple = collections.namedtuple('IrcTuple', ['index', 'row', 'col'])\n",
    "def xyz2irc(coord_xyz, origin_xyz, vxSize_xyz, direction_a):\n",
    "    origin_a = np.array(origin_xyz)\n",
    "    vxSize_a = np.array(vxSize_xyz)\n",
    "    coord_a = np.array(coord_xyz)\n",
    "    cri_a = ((coord_a - origin_a) @ np.linalg.inv(direction_a)) / vxSize_a\n",
    "    cri_a = np.round(cri_a)\n",
    "    return IrcTuple(int(cri_a[2]), int(cri_a[1]), int(cri_a[0]))"
   ]
  },
  {
   "cell_type": "code",
   "execution_count": 5,
   "id": "84042b39-76a1-431b-ba90-ffb1004afc96",
   "metadata": {
    "tags": []
   },
   "outputs": [],
   "source": [
    "def np2Png(np_arr, target_path):\n",
    "    min_value = np.min(np_arr)\n",
    "    max_value = np.max(np_arr) if np.max(np_arr) > 0 else 1\n",
    "    scaled_np_arr = (np_arr - min_value) / (max_value - min_value) * 255\n",
    "    scaled_np_arr = scaled_np_arr.astype(np.uint8)\n",
    "    slices = Image.fromarray(scaled_np_arr, mode='L')\n",
    "    slices.save(target_path)"
   ]
  },
  {
   "cell_type": "code",
   "execution_count": 4,
   "id": "fb9032b9-f9e7-4c0f-912b-bbc7094858a6",
   "metadata": {
    "tags": []
   },
   "outputs": [],
   "source": [
    "# uid = \"1.3.6.1.4.1.14519.5.2.1.6279.6001.287966244644280690737019247886\"\n",
    "# mhd_path = glob.glob('C:/Users/oplab/Desktop/Luna16_data/Luna16_img/subset*/{}.mhd'.format(uid))\n",
    "\n",
    "# ct_mhd = sitk.ReadImage(mhd_path)\n",
    "\n",
    "# if ct_mhd.GetDimension()==4 and ct_mhd.GetSize()[3]==1:\n",
    "#     ct_mhd = ct_mhd[...,0]\n",
    "\n",
    "# hu_a = np.array(sitk.GetArrayFromImage(ct_mhd), dtype=np.float32)\n",
    "\n",
    "# origin_xyz = XyzTuple(*ct_mhd.GetOrigin())\n",
    "\n",
    "# vxSize_xyz = XyzTuple(*ct_mhd.GetSpacing())\n",
    "\n",
    "# direction_a = np.array(ct_mhd.GetDirection()).reshape(3, 3)\n",
    "\n",
    "# mask_a, ann_count = masks_build(uid, hu_a)\n",
    "# print(mask_a.sum())\n",
    "# print(ann_count.sum())"
   ]
  },
  {
   "cell_type": "code",
   "execution_count": 5,
   "id": "4b74e65e-c831-45df-8a6f-a4250a346c29",
   "metadata": {
    "tags": []
   },
   "outputs": [],
   "source": [
    "# for i in range(hu_a.shape[0]):\n",
    "#         np2Png(hu_a[i], \"./test_data/origin/origin_{}.png\".format(i))\n",
    "#         np2Png(ann_count[i], \"./test_data/count/count_{}.png\".format(i))\n",
    "#         np2Png(mask_a[i].astype(int), \"./test_data/mask/mask_{}.png\".format(i))"
   ]
  },
  {
   "cell_type": "code",
   "execution_count": 3,
   "id": "d12ed7a2-3863-443e-acb2-8b044fe35274",
   "metadata": {
    "tags": []
   },
   "outputs": [],
   "source": [
    "CandidateInfoTuple = namedtuple('CandidateInfoTuple', 'isNodule_bool, hasAnnotation_bool, isMal_bool, diameter_mm, series_uid, center_xyz')\n",
    "def getCandidateInfoList(requireOnDisk_bool=True):\n",
    "    # We construct a set with all series_uids that are present on disk.\n",
    "    # This will let us use the data, even if we haven't downloaded all of\n",
    "    # the subsets yet.\n",
    "    mhd_list = glob.glob('D:/LUNA/Luna16_AugData/subset*/*.mhd')\n",
    "    presentOnDisk_set = {os.path.split(p)[-1][:-4] for p in mhd_list}\n",
    "\n",
    "    candidateInfo_list = []\n",
    "    with open('C:/Users/oplab/Desktop/Luna16_data/annotations_with_malignancy.csv', \"r\") as f:\n",
    "        for row in list(csv.reader(f))[1:]:\n",
    "            series_uid = row[0]\n",
    "            annotationCenter_xyz = tuple([float(x) for x in row[1:4]])\n",
    "            annotationDiameter_mm = float(row[4])\n",
    "            isMal_bool = {'False': False, 'True': True}[row[5]] #it record the malignancy or not\n",
    "\n",
    "            if series_uid not in presentOnDisk_set and requireOnDisk_bool:\n",
    "                continue\n",
    "\n",
    "            candidateInfo_list.append(\n",
    "                CandidateInfoTuple(\n",
    "                    True,\n",
    "                    True,\n",
    "                    isMal_bool,\n",
    "                    annotationDiameter_mm,\n",
    "                    series_uid,\n",
    "                    annotationCenter_xyz,\n",
    "                )\n",
    "            )\n",
    "#     with open('C:/Users/oplab/Desktop/Luna16_data/candidates_V2.csv', \"r\") as f:\n",
    "#         for row in list(csv.reader(f))[1:]:\n",
    "#             series_uid = row[0]\n",
    "\n",
    "#             if series_uid not in presentOnDisk_set and requireOnDisk_bool:\n",
    "#                 continue\n",
    "\n",
    "#             isNodule_bool = bool(int(row[4]))\n",
    "#             candidateCenter_xyz = tuple([float(x) for x in row[1:4]])\n",
    "\n",
    "#             if not isNodule_bool:\n",
    "#                 candidateInfo_list.append(\n",
    "#                     CandidateInfoTuple(\n",
    "#                         False,\n",
    "#                         False,\n",
    "#                         False,\n",
    "#                         0.0,\n",
    "#                         series_uid,\n",
    "#                         candidateCenter_xyz,\n",
    "#                     )\n",
    "#             )\n",
    "#     candidateInfo_list.sort(reverse=True)\n",
    "    return candidateInfo_list"
   ]
  },
  {
   "cell_type": "code",
   "execution_count": 7,
   "id": "80e131eb-87ba-40fc-bf30-f8cc1f01b865",
   "metadata": {
    "tags": []
   },
   "outputs": [
    {
     "data": {
      "text/plain": [
       "1182"
      ]
     },
     "execution_count": 7,
     "metadata": {},
     "output_type": "execute_result"
    }
   ],
   "source": [
    "candidateInfo_list = getCandidateInfoList()\n",
    "len(candidateInfo_list)"
   ]
  },
  {
   "cell_type": "code",
   "execution_count": 6,
   "id": "94b61f1e-63f1-49b9-a8df-6c01e8a4d635",
   "metadata": {
    "tags": []
   },
   "outputs": [],
   "source": [
    "def buildAnnotationMask(noduleInfo_list, hu_a, origin_xyz, vxSize_xyz, direction_a, threshold_hu = -700):\n",
    "        boundingBox_a = np.zeros_like(hu_a, dtype=bool) # all False tensor\n",
    "\n",
    "        for candidateInfo_tup in noduleInfo_list: #traverse所有的nodules\n",
    "            center_irc = xyz2irc(\n",
    "                candidateInfo_tup.center_xyz,\n",
    "                origin_xyz,\n",
    "                vxSize_xyz,\n",
    "                direction_a,\n",
    "            )\n",
    "            ci = int(center_irc.index)  # the center of voxel\n",
    "            cr = int(center_irc.row)\n",
    "            cc = int(center_irc.col)\n",
    "\n",
    "            index_radius = 2\n",
    "            try:\n",
    "                # 從index找，看哪裡會遇到空氣，當兩邊都遇到空氣後就把邊界設在大的那段\n",
    "                while hu_a[ci + index_radius, cr, cc] > threshold_hu and \\\n",
    "                        hu_a[ci - index_radius, cr, cc] > threshold_hu:\n",
    "                    index_radius += 1\n",
    "            except IndexError:\n",
    "                index_radius -= 1\n",
    "\n",
    "            row_radius = 2\n",
    "            try:\n",
    "                # 從row找，看哪裡會遇到空氣，當兩邊都遇到空氣後就把邊界設在大的那段\n",
    "                while hu_a[ci, cr + row_radius, cc] > threshold_hu and \\\n",
    "                        hu_a[ci, cr - row_radius, cc] > threshold_hu:\n",
    "                    row_radius += 1\n",
    "            except IndexError:\n",
    "                row_radius -= 1\n",
    "\n",
    "            col_radius = 2\n",
    "            try:\n",
    "                # 從column找，看哪裡會遇到空氣，當兩邊都遇到空氣後就把邊界設在大的那段\n",
    "                while hu_a[ci, cr, cc + col_radius] > threshold_hu and \\\n",
    "                        hu_a[ci, cr, cc - col_radius] > threshold_hu:\n",
    "                    col_radius += 1\n",
    "            except IndexError:\n",
    "                col_radius -= 1\n",
    "\n",
    "            # assert index_radius > 0, repr([candidateInfo_tup.center_xyz, center_irc, self.hu_a[ci, cr, cc]])\n",
    "            # assert row_radius > 0\n",
    "            # assert col_radius > 0\n",
    "\n",
    "            boundingBox_a[\n",
    "                 ci - index_radius: ci + index_radius + 1,\n",
    "                 cr - row_radius: cr + row_radius + 1,\n",
    "                 cc - col_radius: cc + col_radius + 1] = True #將box裡的所有格子設成TRUE\n",
    "\n",
    "        mask_a = boundingBox_a & (hu_a > threshold_hu)  #最後會對box和threshold低於-700的值做and\n",
    "\n",
    "        return mask_a"
   ]
  },
  {
   "cell_type": "code",
   "execution_count": 8,
   "id": "dd47bc7f-9d6c-43e4-806a-cc0126e156ef",
   "metadata": {
    "tags": []
   },
   "outputs": [],
   "source": [
    "def getCandidateInfoDict(requireOnDisk_bool=True):  #把candidateInfoList包成Dict\n",
    "    candidateInfo_list = getCandidateInfoList(requireOnDisk_bool)\n",
    "    candidateInfo_dict = {}\n",
    "\n",
    "    for candidateInfo_tup in candidateInfo_list:\n",
    "        candidateInfo_dict.setdefault(candidateInfo_tup.series_uid,\n",
    "                                      []).append(candidateInfo_tup)\n",
    "\n",
    "    return candidateInfo_dict"
   ]
  },
  {
   "cell_type": "code",
   "execution_count": 9,
   "id": "0caacb3b-ae84-401c-9da5-02daff58df7a",
   "metadata": {
    "tags": []
   },
   "outputs": [
    {
     "data": {
      "text/plain": [
       "600"
      ]
     },
     "execution_count": 9,
     "metadata": {},
     "output_type": "execute_result"
    }
   ],
   "source": [
    "candidate_dict =  getCandidateInfoDict()\n",
    "len(candidate_dict)"
   ]
  },
  {
   "cell_type": "code",
   "execution_count": 11,
   "id": "3019f047-d2a9-4a81-a421-e64363fda529",
   "metadata": {
    "tags": []
   },
   "outputs": [],
   "source": [
    "# idx = 0\n",
    "# uid_ndcnt = 0\n",
    "# for uid in candidate_dict:\n",
    "    \n",
    "#     mhd_path = glob.glob('C:/Users/oplab/Desktop/Luna16_data/Luna16_img/subset*/{}.mhd'.format(uid))\n",
    "\n",
    "#     ct_mhd = sitk.ReadImage(mhd_path)\n",
    "\n",
    "#     if ct_mhd.GetDimension()==4 and ct_mhd.GetSize()[3]==1:\n",
    "#         ct_mhd = ct_mhd[...,0]\n",
    "        \n",
    "#     hu_a = np.array(sitk.GetArrayFromImage(ct_mhd), dtype=np.float32)\n",
    "\n",
    "#     origin_xyz = XyzTuple(*ct_mhd.GetOrigin())\n",
    "\n",
    "#     vxSize_xyz = XyzTuple(*ct_mhd.GetSpacing())\n",
    "\n",
    "#     direction_a = np.array(ct_mhd.GetDirection()).reshape(3, 3)\n",
    "    \n",
    "#     mask_a= masks_build(uid, hu_a)\n",
    "    \n",
    "#     lower_bound = 0\n",
    "    \n",
    "#     upper_bound = len(hu_a)\n",
    "    \n",
    "#     current_slice = 0\n",
    "    \n",
    "#     uid_ndcnt = 0\n",
    "    \n",
    "#     for candidateInfo_tup in candidate_dict[uid]:\n",
    "        \n",
    "#         center_irc = xyz2irc(candidateInfo_tup.center_xyz, origin_xyz, vxSize_xyz, direction_a)\n",
    "    \n",
    "#         index, row, column = center_irc\n",
    "        \n",
    "#         hu_list = []\n",
    "#         mask_list = []\n",
    "#         for i in range(0, 1):\n",
    "#         # for i in range(-3, 4):\n",
    "#             current_slice = index + i\n",
    "#             if index + i < lower_bound:\n",
    "#                 current_slice = lower_bound\n",
    "#             if index + i > upper_bound:\n",
    "#                 current_slice = upper_bound\n",
    "#             np2Png(hu_a[current_slice], \"C:/LUNA/U-Det/Data/imgs-photo/{}-({})_{}_{}.png\".format(idx, i, uid_ndcnt, uid))\n",
    "#             np2Png(mask_a[current_slice].astype(float), \"C:/LUNA/U-Det/Data/masks-photo/{}-({})_{}_{}.png\".format(idx, i, uid_ndcnt, uid))\n",
    "#             hu_list.append(hu_a[current_slice])\n",
    "#             mask_list.append(mask_a[current_slice])\n",
    "#         # tr_data = np.stack(hu_list)\n",
    "#         # gt_data = mask_list[3]\n",
    "#         # np.save('C:/LUNA/U-Det/Data/imgs/images_{}_{}_{}.npy'.format(idx, uid_ndcnt, uid), tr_data)\n",
    "#         # np.save('C:/LUNA/U-Det/Data/masks/masks_{}_{}_{}.npy'.format(idx, uid_ndcnt, uid), gt_data)\n",
    "#         # np.save('C:/LUNA/U-Det/Data/np_files/imgs/images_{}_{}_{}.npy'.format(idx, uid_ndcnt, uid), tr_data)\n",
    "#         # np.save('C:/LUNA/U-Det/Data/np_files/masks/masks_{}_{}_{}.npy'.format(idx, uid_ndcnt, uid), gt_data)\n",
    "#         np.save('C:/LUNA/U-Det/Data/imgs/images_{}_{}_{}.npy'.format(idx, uid_ndcnt, uid), hu_list[0])\n",
    "#         np.save('C:/LUNA/U-Det/Data/masks/masks_{}_{}_{}.npy'.format(idx, uid_ndcnt, uid), mask_list[0])\n",
    "#         np.save('C:/LUNA/U-Det/Data/np_files/imgs/images_{}_{}_{}.npy'.format(idx, uid_ndcnt, uid), hu_list[0])\n",
    "#         np.save('C:/LUNA/U-Det/Data/np_files/masks/masks_{}_{}_{}.npy'.format(idx, uid_ndcnt, uid), mask_list[0])\n",
    "#         idx += 1\n",
    "#         uid_ndcnt += 1\n",
    "#     break"
   ]
  },
  {
   "cell_type": "code",
   "execution_count": 12,
   "id": "ddca35cb-223f-4755-bfce-646c202b45f9",
   "metadata": {
    "tags": []
   },
   "outputs": [],
   "source": [
    "# idx = 0\n",
    "# uid_ndcnt = 0\n",
    "# csv_file_path = \"C:/Users/oplab/Desktop/Luna16_data/ann.csv\"\n",
    "# # Writing to CSV file\n",
    "# with open(csv_file_path, mode='w', newline='') as file:\n",
    "#     writer = csv.writer(file)\n",
    "#     ann_header = (\"UID\", \"NID\", \"Start\", \"End\", \"StartRow\", \"EndRow\", \"StartCol\", \"EndCol\", \"Diameter\")\n",
    "#     writer.writerow(ann_header)\n",
    "#     for uid in candidate_dict:\n",
    "\n",
    "#         mhd_path = glob.glob('C:/Users/oplab/Desktop/Luna16_data/Luna16_img/subset*/{}.mhd'.format(uid))\n",
    "\n",
    "#         ct_mhd = sitk.ReadImage(mhd_path)\n",
    "\n",
    "#         if ct_mhd.GetDimension()==4 and ct_mhd.GetSize()[3]==1:\n",
    "#             ct_mhd = ct_mhd[...,0]\n",
    "\n",
    "#         hu_a = np.array(sitk.GetArrayFromImage(ct_mhd), dtype=np.float32)\n",
    "\n",
    "#         origin_xyz = XyzTuple(*ct_mhd.GetOrigin())\n",
    "\n",
    "#         vxSize_xyz = XyzTuple(*ct_mhd.GetSpacing())\n",
    "\n",
    "#         direction_a = np.array(ct_mhd.GetDirection()).reshape(3, 3)\n",
    "\n",
    "#         # mask_a= masks_build(uid, hu_a)\n",
    "\n",
    "#         ann_data = ann_group(uid, hu_a)\n",
    "#         # print(len(ann_data))\n",
    "#         # counter += len(ann_data)\n",
    "\n",
    "#         # print(ann_data)\n",
    "\n",
    "\n",
    "#         # Writing to CSV file\n",
    "\n",
    "#             # Write the header\n",
    "\n",
    "#         # Write the data rows\n",
    "#         writer.writerows(ann_data)\n",
    "#         # break\n",
    "        \n",
    "#         # print(uid)\n",
    "\n",
    "#         # print(f\"Data has been written to {csv_file_path}\")\n",
    "\n",
    "\n",
    "#     #     lower_bound = 0\n",
    "\n",
    "#     #     upper_bound = len(hu_a)\n",
    "\n",
    "#     #     current_slice = 0\n",
    "\n",
    "#     #     uid_ndcnt = 0\n",
    "\n",
    "#     #     for candidateInfo_tup in candidate_dict[uid]:\n",
    "\n",
    "#     #         center_irc = xyz2irc(candidateInfo_tup.center_xyz, origin_xyz, vxSize_xyz, direction_a)\n",
    "\n",
    "#     #         index, row, column = center_irc\n",
    "\n",
    "#     #         hu_list = []\n",
    "#     #         mask_list = []\n",
    "#     #         for i in range(0, 1):\n",
    "#     #         # for i in range(-3, 4):\n",
    "#     #             current_slice = index + i\n",
    "#     #             if index + i < lower_bound:\n",
    "#     #                 current_slice = lower_bound\n",
    "#     #             if index + i > upper_bound:\n",
    "#     #                 current_slice = upper_bound\n",
    "#     #             np2Png(hu_a[current_slice], \"C:/LUNA/U-Det/Data/imgs-photo/{}-({})_{}_{}.png\".format(idx, i, uid_ndcnt, uid))\n",
    "#     #             np2Png(mask_a[current_slice].astype(float), \"C:/LUNA/U-Det/Data/masks-photo/{}-({})_{}_{}.png\".format(idx, i, uid_ndcnt, uid))\n",
    "#     #             hu_list.append(hu_a[current_slice])\n",
    "#     #             mask_list.append(mask_a[current_slice])\n",
    "#     #         # tr_data = np.stack(hu_list)\n",
    "#     #         # gt_data = mask_list[3]\n",
    "#     #         # np.save('C:/LUNA/U-Det/Data/imgs/images_{}_{}_{}.npy'.format(idx, uid_ndcnt, uid), tr_data)\n",
    "#     #         # np.save('C:/LUNA/U-Det/Data/masks/masks_{}_{}_{}.npy'.format(idx, uid_ndcnt, uid), gt_data)\n",
    "#     #         # np.save('C:/LUNA/U-Det/Data/np_files/imgs/images_{}_{}_{}.npy'.format(idx, uid_ndcnt, uid), tr_data)\n",
    "#     #         # np.save('C:/LUNA/U-Det/Data/np_files/masks/masks_{}_{}_{}.npy'.format(idx, uid_ndcnt, uid), gt_data)\n",
    "#     #         np.save('C:/LUNA/U-Det/Data/imgs/images_{}_{}_{}.npy'.format(idx, uid_ndcnt, uid), hu_list[0])\n",
    "#     #         np.save('C:/LUNA/U-Det/Data/masks/masks_{}_{}_{}.npy'.format(idx, uid_ndcnt, uid), mask_list[0])\n",
    "#     #         np.save('C:/LUNA/U-Det/Data/np_files/imgs/images_{}_{}_{}.npy'.format(idx, uid_ndcnt, uid), hu_list[0])\n",
    "#     #         np.save('C:/LUNA/U-Det/Data/np_files/masks/masks_{}_{}_{}.npy'.format(idx, uid_ndcnt, uid), mask_list[0])\n",
    "#     #         idx += 1\n",
    "#     #         uid_ndcnt += 1\n",
    "#         # break\n",
    "# # print(counter)"
   ]
  },
  {
   "cell_type": "code",
   "execution_count": 10,
   "id": "7c3d3ed6-1036-47bf-b6c9-635c3c104ca8",
   "metadata": {
    "tags": []
   },
   "outputs": [],
   "source": [
    "from skimage import measure, filters\n",
    "import scipy.ndimage.morphology\n",
    "from os.path import join\n",
    "import matplotlib.pyplot as plt\n",
    "def threshold_mask(raw_output, threshold):\n",
    "    if threshold == 0:\n",
    "        try:\n",
    "            threshold = filters.threshold_otsu(raw_output)\n",
    "        except:\n",
    "            threshold = 0.5\n",
    "\n",
    "    # print('\\tThreshold: {}'.format(threshold))\n",
    "\n",
    "    raw_output[raw_output > threshold] = 1\n",
    "    raw_output[raw_output < 1] = 0\n",
    "\n",
    "    all_labels = measure.label(raw_output)\n",
    "    props = measure.regionprops(all_labels)\n",
    "    props.sort(key=lambda x: x.area, reverse=True)\n",
    "    thresholded_mask = np.zeros(raw_output.shape)\n",
    "\n",
    "    if len(props) >= 2:\n",
    "        if props[0].area / props[1].area > 5:  # if the largest is way larger than the second largest\n",
    "            thresholded_mask[all_labels == props[0].label] = 1  # only turn on the largest component\n",
    "        else:\n",
    "            thresholded_mask[all_labels == props[0].label] = 1  # turn on two largest components\n",
    "            thresholded_mask[all_labels == props[1].label] = 1\n",
    "    elif len(props):\n",
    "        thresholded_mask[all_labels == props[0].label] = 1\n",
    "\n",
    "    thresholded_mask = scipy.ndimage.morphology.binary_fill_holes(thresholded_mask).astype(np.uint8)\n",
    "\n",
    "    return thresholded_mask\n",
    "def plot_image(img_data, gt_data, output, i, outdir):\n",
    "    img_name = \"{}\".format(i)\n",
    "    output_bin = threshold_mask(output, 0.5)\n",
    "    # fig_out_dir = \"D://LUNA//udet//result//origin\"\n",
    "    fig_out_dir = \"C://LUNA//udet//result//{}//plot\".format(outdir)\n",
    "    f, ax = plt.subplots(figsize=(10, 5))\n",
    "\n",
    "    ax.imshow(img_data, alpha=1, cmap='gray')\n",
    "    ax.imshow(output_bin, alpha=0.5, cmap='Blues')\n",
    "    ax.imshow(gt_data, alpha=0.5, cmap='Reds')\n",
    "    ax.axis('off')\n",
    "    fig = plt.gcf()\n",
    "    # fig.suptitle(img_name)\n",
    "\n",
    "    # print(\"save image at: \", join(fig_out_dir, img_name + '_qual_fig' + '.png'))\n",
    "    plt.savefig(join(fig_out_dir, img_name + '.png'),\n",
    "                format='png', bbox_inches='tight')\n",
    "    plt.close('all')\n",
    "from PIL import Image, ImageDraw\n",
    "def np2Png(np_arr, target_path):\n",
    "    min_value = np.min(np_arr)\n",
    "    max_value = np.max(np_arr)\n",
    "    # d = 4000 if max_value != 1 else 1\n",
    "    diff = np_arr - min_value\n",
    "    d = max_value - min_value\n",
    "    # print(min_value)\n",
    "    # print(max_value)\n",
    "    if (min_value == max_value and min_value == 1000):\n",
    "        diff = np_arr\n",
    "        d = 1000\n",
    "    scaled_np_arr = diff / (d) * 255\n",
    "    scaled_np_arr = scaled_np_arr.astype(np.uint8)\n",
    "    slices = Image.fromarray(scaled_np_arr, mode='L')\n",
    "    slices.save(target_path)"
   ]
  },
  {
   "cell_type": "code",
   "execution_count": 11,
   "id": "179b148d-a5f9-48fd-a54f-755212969888",
   "metadata": {
    "tags": []
   },
   "outputs": [
    {
     "name": "stderr",
     "output_type": "stream",
     "text": [
      "Predict: 100%|███████████████████████████████████████████████████████████████████████████| 246/246 [00:28<00:00,  8.67it/s]\n"
     ]
    },
    {
     "name": "stdout",
     "output_type": "stream",
     "text": [
      "(491, 512, 512)\n"
     ]
    },
    {
     "ename": "FileNotFoundError",
     "evalue": "[Errno 2] No such file or directory: 'C://LUNA//udet//result//augseg_new//origin//0_1.3.6.1.4.1.14519.5.2.1.6279.6001.250397690690072950000431855143.png'",
     "output_type": "error",
     "traceback": [
      "\u001b[1;31m---------------------------------------------------------------------------\u001b[0m",
      "\u001b[1;31mFileNotFoundError\u001b[0m                         Traceback (most recent call last)",
      "Cell \u001b[1;32mIn[11], line 36\u001b[0m\n\u001b[0;32m     34\u001b[0m \u001b[38;5;28mprint\u001b[39m(result\u001b[38;5;241m.\u001b[39mshape)\n\u001b[0;32m     35\u001b[0m \u001b[38;5;28;01mfor\u001b[39;00m i \u001b[38;5;129;01min\u001b[39;00m \u001b[38;5;28mrange\u001b[39m(result\u001b[38;5;241m.\u001b[39mshape[\u001b[38;5;241m0\u001b[39m]):\n\u001b[1;32m---> 36\u001b[0m     np2Png(hu_a[i], \u001b[38;5;124m\"\u001b[39m\u001b[38;5;124mC://LUNA//udet//result//\u001b[39m\u001b[38;5;132;01m{}\u001b[39;00m\u001b[38;5;124m//origin//\u001b[39m\u001b[38;5;132;01m{}\u001b[39;00m\u001b[38;5;124m_\u001b[39m\u001b[38;5;132;01m{}\u001b[39;00m\u001b[38;5;124m.png\u001b[39m\u001b[38;5;124m\"\u001b[39m\u001b[38;5;241m.\u001b[39mformat(outdir, i, uid))\n\u001b[0;32m     37\u001b[0m     ori_mask \u001b[38;5;241m=\u001b[39m np\u001b[38;5;241m.\u001b[39mwhere(mask_a[i], hu_a[i], \u001b[38;5;241m1000\u001b[39m)\n\u001b[0;32m     38\u001b[0m     np2Png(ori_mask, \u001b[38;5;124m\"\u001b[39m\u001b[38;5;124mC://LUNA//udet//result//\u001b[39m\u001b[38;5;132;01m{}\u001b[39;00m\u001b[38;5;124m//ori_mask//\u001b[39m\u001b[38;5;132;01m{}\u001b[39;00m\u001b[38;5;124m_\u001b[39m\u001b[38;5;132;01m{}\u001b[39;00m\u001b[38;5;124m.png\u001b[39m\u001b[38;5;124m\"\u001b[39m\u001b[38;5;241m.\u001b[39mformat(outdir, i, uid))\n",
      "Cell \u001b[1;32mIn[10], line 67\u001b[0m, in \u001b[0;36mnp2Png\u001b[1;34m(np_arr, target_path)\u001b[0m\n\u001b[0;32m     65\u001b[0m scaled_np_arr \u001b[38;5;241m=\u001b[39m scaled_np_arr\u001b[38;5;241m.\u001b[39mastype(np\u001b[38;5;241m.\u001b[39muint8)\n\u001b[0;32m     66\u001b[0m slices \u001b[38;5;241m=\u001b[39m Image\u001b[38;5;241m.\u001b[39mfromarray(scaled_np_arr, mode\u001b[38;5;241m=\u001b[39m\u001b[38;5;124m'\u001b[39m\u001b[38;5;124mL\u001b[39m\u001b[38;5;124m'\u001b[39m)\n\u001b[1;32m---> 67\u001b[0m slices\u001b[38;5;241m.\u001b[39msave(target_path)\n",
      "File \u001b[1;32m~\\anaconda3\\Lib\\site-packages\\PIL\\Image.py:2410\u001b[0m, in \u001b[0;36mImage.save\u001b[1;34m(self, fp, format, **params)\u001b[0m\n\u001b[0;32m   2408\u001b[0m         fp \u001b[38;5;241m=\u001b[39m builtins\u001b[38;5;241m.\u001b[39mopen(filename, \u001b[38;5;124m\"\u001b[39m\u001b[38;5;124mr+b\u001b[39m\u001b[38;5;124m\"\u001b[39m)\n\u001b[0;32m   2409\u001b[0m     \u001b[38;5;28;01melse\u001b[39;00m:\n\u001b[1;32m-> 2410\u001b[0m         fp \u001b[38;5;241m=\u001b[39m builtins\u001b[38;5;241m.\u001b[39mopen(filename, \u001b[38;5;124m\"\u001b[39m\u001b[38;5;124mw+b\u001b[39m\u001b[38;5;124m\"\u001b[39m)\n\u001b[0;32m   2412\u001b[0m \u001b[38;5;28;01mtry\u001b[39;00m:\n\u001b[0;32m   2413\u001b[0m     save_handler(\u001b[38;5;28mself\u001b[39m, fp, filename)\n",
      "\u001b[1;31mFileNotFoundError\u001b[0m: [Errno 2] No such file or directory: 'C://LUNA//udet//result//augseg_new//origin//0_1.3.6.1.4.1.14519.5.2.1.6279.6001.250397690690072950000431855143.png'"
     ]
    }
   ],
   "source": [
    "idx = 0\n",
    "uid_ndcnt = 0\n",
    "outdir = \"augseg_new\"\n",
    "for uid in candidate_dict:\n",
    "    \n",
    "    uid = \"1.3.6.1.4.1.14519.5.2.1.6279.6001.250397690690072950000431855143\"\n",
    "\n",
    "    mhd_path = glob.glob('D:/LUNA/Luna16_AugSegData/subset*/{}.mhd'.format(uid))\n",
    "    \n",
    "    mask_path = glob.glob('C:/LUNA/Luna16_AugMask/subset*/{}.mhd'.format(uid))\n",
    "    \n",
    "    mask_mhd = sitk.ReadImage(mask_path)\n",
    "    \n",
    "    if mask_mhd.GetDimension()==4 and mask_mhd.GetSize()[3]==1:\n",
    "        mask_mhd = mask_mhd[...,0]\n",
    "    mask_a = sitk.GetArrayFromImage(mask_mhd)\n",
    "\n",
    "    ct_mhd = sitk.ReadImage(mhd_path)\n",
    "\n",
    "    if ct_mhd.GetDimension()==4 and ct_mhd.GetSize()[3]==1:\n",
    "        ct_mhd = ct_mhd[...,0]\n",
    "\n",
    "    hu_a = np.array(sitk.GetArrayFromImage(ct_mhd), dtype=np.float32)\n",
    "\n",
    "    origin_xyz = XyzTuple(*ct_mhd.GetOrigin())\n",
    "\n",
    "    vxSize_xyz = XyzTuple(*ct_mhd.GetSpacing())\n",
    "\n",
    "    direction_a = np.array(ct_mhd.GetDirection()).reshape(3, 3)\n",
    "\n",
    "    # mask_a= masks_build(uid, hu_a)\n",
    "    \n",
    "    result = nodule_segment(hu_a)\n",
    "    print(result.shape)\n",
    "    for i in range(result.shape[0]):\n",
    "        np2Png(hu_a[i], \"C://LUNA//udet//result//{}//origin//{}_{}.png\".format(outdir, i, uid))\n",
    "        ori_mask = np.where(mask_a[i], hu_a[i], 1000)\n",
    "        np2Png(ori_mask, \"C://LUNA//udet//result//{}//ori_mask//{}_{}.png\".format(outdir, i, uid))\n",
    "        # break\n",
    "    break"
   ]
  },
  {
   "cell_type": "code",
   "execution_count": 15,
   "id": "6dbc34f3-fad9-43f0-8694-ffa17105b19e",
   "metadata": {
    "tags": []
   },
   "outputs": [
    {
     "data": {
      "text/plain": [
       "(491, 512, 512)"
      ]
     },
     "execution_count": 15,
     "metadata": {},
     "output_type": "execute_result"
    }
   ],
   "source": [
    "result.shape"
   ]
  },
  {
   "cell_type": "code",
   "execution_count": 16,
   "id": "28433509-79c8-4356-85c3-44e08c9d01c5",
   "metadata": {
    "tags": []
   },
   "outputs": [
    {
     "data": {
      "text/plain": [
       "(491, 512, 512)"
      ]
     },
     "execution_count": 16,
     "metadata": {},
     "output_type": "execute_result"
    }
   ],
   "source": [
    "mask_a.shape"
   ]
  },
  {
   "cell_type": "code",
   "execution_count": 12,
   "id": "41689c76-2385-4e34-a917-c1edaaa8e8e7",
   "metadata": {
    "tags": []
   },
   "outputs": [
    {
     "name": "stderr",
     "output_type": "stream",
     "text": [
      "C:\\Users\\oplab\\AppData\\Local\\Temp\\ipykernel_20544\\1730159673.py:31: DeprecationWarning: Please use `binary_fill_holes` from the `scipy.ndimage` namespace, the `scipy.ndimage.morphology` namespace is deprecated.\n",
      "  thresholded_mask = scipy.ndimage.morphology.binary_fill_holes(thresholded_mask).astype(np.uint8)\n"
     ]
    }
   ],
   "source": [
    "for i in range(result.shape[0]):\n",
    "    plot_image(hu_a[i], mask_a[i], result[i], i, outdir)"
   ]
  },
  {
   "cell_type": "code",
   "execution_count": 18,
   "id": "a9e8a6a5-7bac-4596-932d-6fc5190c092c",
   "metadata": {
    "tags": []
   },
   "outputs": [
    {
     "data": {
      "text/plain": [
       "True"
      ]
     },
     "execution_count": 18,
     "metadata": {},
     "output_type": "execute_result"
    }
   ],
   "source": [
    "import torch\n",
    "torch.cuda.is_available()"
   ]
  }
 ],
 "metadata": {
  "kernelspec": {
   "display_name": "Python 3 (ipykernel)",
   "language": "python",
   "name": "python3"
  },
  "language_info": {
   "codemirror_mode": {
    "name": "ipython",
    "version": 3
   },
   "file_extension": ".py",
   "mimetype": "text/x-python",
   "name": "python",
   "nbconvert_exporter": "python",
   "pygments_lexer": "ipython3",
   "version": "3.11.5"
  }
 },
 "nbformat": 4,
 "nbformat_minor": 5
}
