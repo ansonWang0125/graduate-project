{
 "cells": [
  {
   "cell_type": "code",
   "execution_count": 1,
   "id": "dab74cfe-d94a-4fbc-b069-fb84b50b01a1",
   "metadata": {
    "tags": []
   },
   "outputs": [
    {
     "name": "stderr",
     "output_type": "stream",
     "text": [
      "2023-12-09 22:27:01,846 INFO     pid:11192 numexpr.utils:148:_init_num_threads Note: NumExpr detected 20 cores but \"NUMEXPR_MAX_THREADS\" not set, so enforcing safe limit of 8.\n",
      "2023-12-09 22:27:01,859 INFO     pid:11192 numexpr.utils:160:_init_num_threads NumExpr defaulting to 8 threads.\n"
     ]
    }
   ],
   "source": [
    "import SimpleITK as sitk\n",
    "import os\n",
    "import csv\n",
    "import numpy as np\n",
    "from util import XyzTuple, xyz2irc, logging, getCache\n",
    "import collections\n",
    "from collections import namedtuple  \n",
    "import glob\n",
    "from concurrent.futures import ThreadPoolExecutor\n",
    "from pylidc_func import masks_build\n",
    "from make_mask import aug_mask\n",
    "from segmentation import segment, init_segment_model"
   ]
  },
  {
   "cell_type": "code",
   "execution_count": 2,
   "id": "d12ed7a2-3863-443e-acb2-8b044fe35274",
   "metadata": {
    "tags": []
   },
   "outputs": [],
   "source": [
    "CandidateInfoTuple = namedtuple('CandidateInfoTuple', 'isNodule_bool, hasAnnotation_bool, isMal_bool, diameter_mm, series_uid, center_xyz')\n",
    "def getCandidateInfoList(requireOnDisk_bool=True):\n",
    "    # We construct a set with all series_uids that are present on disk.\n",
    "    # This will let us use the data, even if we haven't downloaded all of\n",
    "    # the subsets yet.\n",
    "    mhd_list = glob.glob('C:/Users/oplab/Desktop/Luna16_data/Luna16_img/subset*/*.mhd')\n",
    "    presentOnDisk_set = {os.path.split(p)[-1][:-4] for p in mhd_list}\n",
    "\n",
    "    candidateInfo_list = []\n",
    "    with open('C:/Users/oplab/Desktop/Luna16_data/annotations_with_malignancy.csv', \"r\") as f:\n",
    "        for row in list(csv.reader(f))[1:]:\n",
    "            series_uid = row[0]\n",
    "            annotationCenter_xyz = tuple([float(x) for x in row[1:4]])\n",
    "            annotationDiameter_mm = float(row[4])\n",
    "            isMal_bool = {'False': False, 'True': True}[row[5]] #it record the malignancy or not\n",
    "\n",
    "            if series_uid not in presentOnDisk_set and requireOnDisk_bool:\n",
    "                continue\n",
    "\n",
    "            candidateInfo_list.append(\n",
    "                CandidateInfoTuple(\n",
    "                    True,\n",
    "                    True,\n",
    "                    isMal_bool,\n",
    "                    annotationDiameter_mm,\n",
    "                    series_uid,\n",
    "                    annotationCenter_xyz,\n",
    "                )\n",
    "            )\n",
    "\n",
    "    with open('C:/Users/oplab/Desktop/Luna16_data/candidates_V2.csv', \"r\") as f:\n",
    "        for row in list(csv.reader(f))[1:]:\n",
    "            series_uid = row[0]\n",
    "\n",
    "            if series_uid not in presentOnDisk_set and requireOnDisk_bool:\n",
    "                continue\n",
    "\n",
    "            isNodule_bool = bool(int(row[4]))\n",
    "            candidateCenter_xyz = tuple([float(x) for x in row[1:4]])\n",
    "\n",
    "            if not isNodule_bool:\n",
    "                candidateInfo_list.append(\n",
    "                    CandidateInfoTuple(\n",
    "                        False,\n",
    "                        False,\n",
    "                        False,\n",
    "                        0.0,\n",
    "                        series_uid,\n",
    "                        candidateCenter_xyz,\n",
    "                    )\n",
    "                )\n",
    "\n",
    "    candidateInfo_list.sort(reverse=True)\n",
    "    return candidateInfo_list"
   ]
  },
  {
   "cell_type": "code",
   "execution_count": 3,
   "id": "dd47bc7f-9d6c-43e4-806a-cc0126e156ef",
   "metadata": {
    "tags": []
   },
   "outputs": [],
   "source": [
    "def getCandidateInfoDict(requireOnDisk_bool=True):  #把candidateInfoList包成Dict\n",
    "    candidateInfo_list = getCandidateInfoList(requireOnDisk_bool)\n",
    "    candidateInfo_dict = {}\n",
    "\n",
    "    for candidateInfo_tup in candidateInfo_list:\n",
    "        candidateInfo_dict.setdefault(candidateInfo_tup.series_uid,\n",
    "                                      []).append(candidateInfo_tup)\n",
    "\n",
    "    return candidateInfo_dict"
   ]
  },
  {
   "cell_type": "code",
   "execution_count": 4,
   "id": "0caacb3b-ae84-401c-9da5-02daff58df7a",
   "metadata": {
    "tags": []
   },
   "outputs": [
    {
     "data": {
      "text/plain": [
       "888"
      ]
     },
     "execution_count": 4,
     "metadata": {},
     "output_type": "execute_result"
    }
   ],
   "source": [
    "candidate_dict =  getCandidateInfoDict()\n",
    "len(candidate_dict)"
   ]
  },
  {
   "cell_type": "code",
   "execution_count": 5,
   "id": "08ea7834-ed6e-4b1f-85ce-aa2c16ab8cf9",
   "metadata": {
    "tags": []
   },
   "outputs": [],
   "source": [
    "# write_root = \"D://LUNA//Luna16_AugData\"\n",
    "# if not os.path.exists(write_root):\n",
    "#     os.mkdir(\"D://LUNA//Luna16_AugData\")\n",
    "    \n",
    "# append = True\n",
    "# # split to train test\n",
    "# for sub_root in os.listdir(\"C://Users//oplab//Desktop//Luna16_data//Luna16_img//\"):\n",
    "#     root = os.path.join(\"E:\\LUNA\\Luna_Data\", sub_root)\n",
    "#     print(root)\n",
    "#     for path in os.listdir(root):\n",
    "#         break\n",
    "#         # npy_path = glob.glob('./augmented_segmented/{}.npy'.format(series_uid))\n",
    "#         npy_path = glob.glob(os.path.join(write_root, sub_root, path) + ''.format(series_uid))\n",
    "#         if (npy_path != [] and append):\n",
    "#             print(\"pass\")\n",
    "#             continue\n",
    "#         mhd_path = glob.glob('C:/Users/oplab/Desktop/Luna16_data/Luna16_img/subset*/{}.mhd'.format(series_uid))\n",
    "#         ct_mhd = sitk.ReadImage(mhd_path)\n",
    "#         if ct_mhd.GetDimension()==4 and ct_mhd.GetSize()[3]==1:\n",
    "#             ct_mhd = ct_mhd[...,0]\n",
    "#         origin = sitk.GetArrayFromImage(ct_mhd)\n",
    "#         print(mhd_path)\n",
    "#         augmented = augment(origin)\n",
    "#         # segmented = segment(augmented)\n",
    "#         # hu_a = np.array(segmented, dtype=np.float32)\n",
    "#         hu_a = np.array(augmented, dtype=np.float32)\n",
    "#         # np.save(\"./augmented/{}.npy\".format(series_uid), hu_a)\n",
    "#         # np.save(\"./augmented_segmented/{}.npy\".format(series_uid), hu_a)\n",
    "#         # Load or create a SimpleITK image\n",
    "#         current_origin = ct_mhd.GetOrigin()\n",
    "#         current_spacing = ct_mhd.GetSpacing()\n",
    "\n",
    "#         sitk_image = sitk.GetImageFromArray(augmented)\n",
    "#         # image_short = sitk.Cast(image, sitk.sitkInt16)\n",
    "\n",
    "#         # Set the image origin, spacing, and direction (modify as needed)\n",
    "#         sitk_image.SetOrigin((current_origin[0], current_origin[1], current_origin[2]))\n",
    "#         sitk_image.SetSpacing((current_spacing[0], current_spacing[1], current_spacing[2] / 2))\n",
    "\n",
    "#         # Save the image as a MetaImage file\n",
    "#         if not os.path.exists(os.path.join(write_root, sub_root)):\n",
    "#             os.mkdir(os.path.join(write_root, sub_root))\n",
    "#         sitk.WriteImage(sitk_image, os.path.join(write_root, sub_root, path)) "
   ]
  },
  {
   "cell_type": "code",
   "execution_count": 6,
   "id": "bf0a2844-19ba-436f-9715-b39cd3ae9d64",
   "metadata": {
    "tags": []
   },
   "outputs": [],
   "source": [
    "# npy_path = glob.glob(os.path.join(write_root, sub_root, path) + ''.format(series_uid))"
   ]
  },
  {
   "cell_type": "code",
   "execution_count": 5,
   "id": "5e9c1056-f779-4f9e-94ad-b19b5299a0c2",
   "metadata": {
    "tags": []
   },
   "outputs": [
    {
     "ename": "NameError",
     "evalue": "name 'init_augment_model' is not defined",
     "output_type": "error",
     "traceback": [
      "\u001b[1;31m---------------------------------------------------------------------------\u001b[0m",
      "\u001b[1;31mNameError\u001b[0m                                 Traceback (most recent call last)",
      "Cell \u001b[1;32mIn[5], line 1\u001b[0m\n\u001b[1;32m----> 1\u001b[0m model_best, device \u001b[38;5;241m=\u001b[39m init_augment_model()\n",
      "\u001b[1;31mNameError\u001b[0m: name 'init_augment_model' is not defined"
     ]
    }
   ],
   "source": [
    "model_best, device = init_augment_model()\n",
    "# model, device = init_segment_model()"
   ]
  },
  {
   "cell_type": "code",
   "execution_count": 8,
   "id": "38ff43fb-1ed7-4ac4-9d39-3be9b58796e2",
   "metadata": {
    "tags": []
   },
   "outputs": [],
   "source": [
    "# Function to process a single image\n",
    "def process_image(sub_root, path, write_root_1, write_root_2, append):\n",
    "    raw_path_1 = os.path.join(write_root_1, sub_root, path)\n",
    "    exist_path_1 = glob.glob(os.path.join(write_root_1, sub_root, path))\n",
    "    raw_path_2 = os.path.join(write_root_2, sub_root, path)\n",
    "    exist_path_2 = glob.glob(os.path.join(write_root_2, sub_root, path))\n",
    "    \n",
    "    if exist_path_1 and append:\n",
    "        print(\"pass\")\n",
    "        return\n",
    "    \n",
    "    imagePath = os.path.join(root, path)\n",
    "    ct_mhd = sitk.ReadImage(imagePath)\n",
    "    \n",
    "    if ct_mhd.GetDimension() == 4 and ct_mhd.GetSize()[3] == 1:\n",
    "        ct_mhd = ct_mhd[..., 0]\n",
    "    \n",
    "    origin = sitk.GetArrayFromImage(ct_mhd)\n",
    "    augmented = augment(origin)\n",
    "    hu_a = np.array(augmented, dtype=np.float32)\n",
    "    \n",
    "    current_origin = ct_mhd.GetOrigin()\n",
    "    current_spacing = ct_mhd.GetSpacing()\n",
    "    \n",
    "    sitk_image = sitk.GetImageFromArray(augmented)\n",
    "    sitk_image.SetOrigin((current_origin[0], current_origin[1], current_origin[2]))\n",
    "    sitk_image.SetSpacing((current_spacing[0], current_spacing[1], current_spacing[2] / 2))\n",
    "    \n",
    "    if not os.path.exists(os.path.join(write_root_1, sub_root)):\n",
    "        os.makedirs(os.path.join(write_root_1, sub_root))\n",
    "    \n",
    "    print(os.path.join(write_root_1, sub_root, path))\n",
    "    sitk.WriteImage(sitk_image, raw_path_1)\n"
   ]
  },
  {
   "cell_type": "code",
   "execution_count": 10,
   "id": "770ef0cf-361b-4251-a23c-4c7c17d647d1",
   "metadata": {
    "tags": []
   },
   "outputs": [
    {
     "name": "stdout",
     "output_type": "stream",
     "text": [
      "D:\\LUNA\\Luna16_AugData\\subset0\n"
     ]
    },
    {
     "name": "stderr",
     "output_type": "stream",
     "text": [
      "Augment: 100%|████████████████████████████████████████████████████████████████████| 178/178 [6:55:12<00:00, 139.96s/it]\n"
     ]
    },
    {
     "name": "stdout",
     "output_type": "stream",
     "text": [
      "D:\\LUNA\\Luna16_AugData\\subset5\n"
     ]
    },
    {
     "name": "stderr",
     "output_type": "stream",
     "text": [
      "Augment: 100%|████████████████████████████████████████████████████████████████████| 178/178 [6:37:12<00:00, 133.89s/it]\n"
     ]
    },
    {
     "name": "stdout",
     "output_type": "stream",
     "text": [
      "D:\\LUNA\\Luna16_AugData\\subset9\n"
     ]
    },
    {
     "name": "stderr",
     "output_type": "stream",
     "text": [
      "Augment: 100%|████████████████████████████████████████████████████████████████████| 176/176 [6:49:29<00:00, 139.60s/it]\n"
     ]
    }
   ],
   "source": [
    "from tqdm import tqdm\n",
    "# write_root_1 = \"C:\\\\LUNA\\\\Luna16_AugMask\"\n",
    "write_root_1 = \"D:\\\\LUNA\\\\Luna16_AugSegData\"\n",
    "if not os.path.exists(write_root_1):\n",
    "    # os.mkdir(\"C:\\\\LUNA\\\\Luna16_AugMask\")\n",
    "    os.mkdir(\"D:\\\\LUNA\\\\Luna16_AugSegData\")\n",
    "    \n",
    "# read_root = \"C:\\\\Users\\\\oplab\\\\Desktop\\\\Luna16_data\\\\Luna16_img\"\n",
    "read_root = \"D:\\\\LUNA\\\\Luna16_AugData\"\n",
    "    \n",
    "append = True\n",
    "\n",
    "model, device = init_segment_model()\n",
    "\n",
    "# split to train test\n",
    "for sub_root in os.listdir(read_root):\n",
    "    root = os.path.join(read_root, sub_root)\n",
    "    if (glob.glob(os.path.join(write_root_1, sub_root)) != [] and sub_root != \"subset0\"):\n",
    "        continue\n",
    "    if not os.path.exists(os.path.join(write_root_1, sub_root)):\n",
    "        os.mkdir(os.path.join(write_root_1, sub_root))\n",
    "    print(root)\n",
    "    for path in tqdm(os.listdir(root), desc=\"Augment\"):\n",
    "        if path.find(\"mhd\") >= 0:\n",
    "            raw_path_1 = os.path.join(write_root_1, sub_root, path)\n",
    "            exist_path_1 =  glob.glob(os.path.join(write_root_1, sub_root, path))\n",
    "            # print(exist_path_1)\n",
    "            if (exist_path_1 != [] and append):\n",
    "                # print(\"pass\")\n",
    "                continue\n",
    "            # print(path)\n",
    "            uid, _ = os.path.splitext(path)\n",
    "            imagePath = os.path.join(root, path)\n",
    "            ct_mhd = sitk.ReadImage(imagePath)\n",
    "            if ct_mhd.GetDimension()==4 and ct_mhd.GetSize()[3]==1:\n",
    "                ct_mhd = ct_mhd[...,0]\n",
    "            origin = sitk.GetArrayFromImage(ct_mhd)\n",
    "            segmented = segment(origin, model, device)\n",
    "            hu_a = np.array(segmented, dtype=np.float32)\n",
    "            # masks = masks_build(uid, origin)\n",
    "            # augmented_mask = aug_mask(masks)\n",
    "            # mask_a = np.array(augmented_mask, dtype=int)\n",
    "            # Load or create a SimpleITK image\n",
    "            current_origin = ct_mhd.GetOrigin()\n",
    "            current_spacing = ct_mhd.GetSpacing()\n",
    "\n",
    "            # sitk_image = sitk.GetImageFromArray(mask_a)\n",
    "            sitk_image = sitk.GetImageFromArray(hu_a)\n",
    "            # image_short = sitk.Cast(image, sitk.sitkInt16)\n",
    "\n",
    "            # Set the image origin, spacing, and direction (modify as needed)\n",
    "            sitk_image.SetOrigin((current_origin[0], current_origin[1], current_origin[2]))\n",
    "            sitk_image.SetSpacing((current_spacing[0], current_spacing[1], current_spacing[2] / 2))\n",
    "\n",
    "            # Save the image as a MetaImage file\n",
    "            if not os.path.exists(os.path.join(write_root_1, sub_root)):\n",
    "                os.mkdir(os.path.join(write_root_1, sub_root))\n",
    "            # print(os.path.join(write_root_1, sub_root, path))\n",
    "            sitk.WriteImage(sitk_image, raw_path_1)"
   ]
  },
  {
   "cell_type": "code",
   "execution_count": 2,
   "id": "2273ac88-0489-4e04-b582-49650208ef0e",
   "metadata": {
    "tags": []
   },
   "outputs": [],
   "source": [
    "uid = \"1.3.6.1.4.1.14519.5.2.1.6279.6001.675543413149938600000570588203\"\n",
    "imagePath = \"C://Users//oplab//Desktop//Luna16_data//Luna16_img//subset2//1.3.6.1.4.1.14519.5.2.1.6279.6001.100621383016233746780170740405.mhd\"\n",
    "ct_mhd = sitk.ReadImage(imagePath)\n",
    "if ct_mhd.GetDimension()==4 and ct_mhd.GetSize()[3]==1:\n",
    "    ct_mhd = ct_mhd[...,0]\n",
    "origin = sitk.GetArrayFromImage(ct_mhd)\n",
    "masks = masks_build(uid, origin)\n",
    "augmented_mask = aug_mask(masks)"
   ]
  },
  {
   "cell_type": "code",
   "execution_count": 17,
   "id": "22a01593-5790-4da5-9444-79bd78c318cd",
   "metadata": {
    "tags": []
   },
   "outputs": [],
   "source": [
    "mask_a = np.array(augmented_mask, dtype=int)\n",
    "# Load or create a SimpleITK image\n",
    "current_origin = ct_mhd.GetOrigin()\n",
    "current_spacing = ct_mhd.GetSpacing()\n",
    "\n",
    "sitk_image = sitk.GetImageFromArray(mask_a)\n",
    "# image_short = sitk.Cast(image, sitk.sitkInt16)\n",
    "\n",
    "# Set the image origin, spacing, and direction (modify as needed)\n",
    "sitk_image.SetOrigin((current_origin[0], current_origin[1], current_origin[2]))\n",
    "sitk_image.SetSpacing((current_spacing[0], current_spacing[1], current_spacing[2] / 2))\n",
    "raw_path_1 = \"./mask/test.mhd\"\n",
    "\n",
    "sitk.WriteImage(sitk_image, raw_path_1) "
   ]
  },
  {
   "cell_type": "code",
   "execution_count": 3,
   "id": "07476a03-0779-44c1-8f63-3ae3657335cd",
   "metadata": {
    "tags": []
   },
   "outputs": [
    {
     "name": "stdout",
     "output_type": "stream",
     "text": [
      "641\n"
     ]
    }
   ],
   "source": [
    "# uid = \"test\"\n",
    "imagePath = \"./mask/test.mhd\"\n",
    "ct_mhd = sitk.ReadImage(imagePath)\n",
    "if ct_mhd.GetDimension()==4 and ct_mhd.GetSize()[3]==1:\n",
    "    ct_mhd = ct_mhd[...,0]\n",
    "mask = sitk.GetArrayFromImage(ct_mhd)\n",
    "print(len(mask))\n",
    "# masks = masks_build(uid, origin)\n",
    "# augmented_mask = aug_mask(masks)"
   ]
  },
  {
   "cell_type": "code",
   "execution_count": 7,
   "id": "d583db92-dd9c-47d3-874b-f69738bc0767",
   "metadata": {
    "tags": []
   },
   "outputs": [
    {
     "data": {
      "text/plain": [
       "73726"
      ]
     },
     "execution_count": 7,
     "metadata": {},
     "output_type": "execute_result"
    }
   ],
   "source": [
    "mask.astype(bool).sum()"
   ]
  },
  {
   "cell_type": "code",
   "execution_count": 9,
   "id": "b17a898e-c18c-408c-9c0f-40f41be2e7ff",
   "metadata": {
    "tags": []
   },
   "outputs": [],
   "source": [
    "from PIL import Image, ImageDraw\n",
    "def np2Png(np_arr, target_path):\n",
    "    min_value = np.min(np_arr)\n",
    "    max_value = np.max(np_arr)\n",
    "    d = max_value - min_value if max_value - min_value > 0 else 1\n",
    "    scaled_np_arr = (np_arr - min_value) / (d) * 255\n",
    "    scaled_np_arr = scaled_np_arr.astype(np.uint8)\n",
    "    slices = Image.fromarray(scaled_np_arr, mode='L')\n",
    "    slices.save(target_path)"
   ]
  },
  {
   "cell_type": "code",
   "execution_count": 10,
   "id": "6d73a971-0aa6-4826-a9d9-4a9c23aec2cc",
   "metadata": {
    "tags": []
   },
   "outputs": [],
   "source": [
    "for i, mask_slice in enumerate(mask):\n",
    "    np2Png(mask_slice.astype(bool).astype(int), \"./mask/read_raw/{}.png\".format(i))"
   ]
  },
  {
   "cell_type": "code",
   "execution_count": 15,
   "id": "8c709ecf-3c56-4daf-a125-2bd664b1eb86",
   "metadata": {
    "tags": []
   },
   "outputs": [],
   "source": [
    "for i, mask_slice in enumerate(augmented_mask):\n",
    "    np2Png(mask_slice, \"./mask/augmented/{}.png\".format(i))\n",
    "for i, mask_slice in enumerate(masks):\n",
    "    np2Png(mask_slice.astype(float), \"./mask/origin/{}.png\".format(i))"
   ]
  },
  {
   "cell_type": "code",
   "execution_count": 12,
   "id": "4fc64d51-920e-4cf5-823f-ad9d5f2a9b7c",
   "metadata": {
    "tags": []
   },
   "outputs": [
    {
     "ename": "NameError",
     "evalue": "name 'write_root' is not defined",
     "output_type": "error",
     "traceback": [
      "\u001b[1;31m---------------------------------------------------------------------------\u001b[0m",
      "\u001b[1;31mNameError\u001b[0m                                 Traceback (most recent call last)",
      "Cell \u001b[1;32mIn[12], line 1\u001b[0m\n\u001b[1;32m----> 1\u001b[0m os\u001b[38;5;241m.\u001b[39mpath\u001b[38;5;241m.\u001b[39mjoin(write_root, sub_root, path)\n",
      "\u001b[1;31mNameError\u001b[0m: name 'write_root' is not defined"
     ]
    }
   ],
   "source": [
    "os.path.join(write_root, sub_root, path)"
   ]
  },
  {
   "cell_type": "code",
   "execution_count": null,
   "id": "4832eb68-71fa-4f1e-9b89-163e5b53de1e",
   "metadata": {
    "tags": []
   },
   "outputs": [],
   "source": [
    "glob.glob(os.path.join(write_root, sub_root, path))"
   ]
  },
  {
   "cell_type": "code",
   "execution_count": null,
   "id": "24c22338-bcf6-4822-ac9b-c5329ac79e48",
   "metadata": {
    "tags": []
   },
   "outputs": [],
   "source": [
    "sitk.WriteImage(sitk_image, \"D://udet//augmented//{}.raw\".format(series_uid)) "
   ]
  },
  {
   "cell_type": "code",
   "execution_count": null,
   "id": "ad722f6d-2ae6-435b-ab7a-5badf073a33a",
   "metadata": {
    "tags": []
   },
   "outputs": [],
   "source": [
    "npy_path = glob.glob('./augmented_segmented/{}.npy'.format(\"1.3.6.1.4.1.14519.5.2.1.6279.6001.287966244644280690737019247886\"))"
   ]
  },
  {
   "cell_type": "code",
   "execution_count": null,
   "id": "8a4b95a8-0447-42e0-81b1-9f587b57ed07",
   "metadata": {
    "tags": []
   },
   "outputs": [],
   "source": [
    "npy_path"
   ]
  },
  {
   "cell_type": "code",
   "execution_count": null,
   "id": "6d56b276-3b8c-4a46-ac2e-67d41e37d3d4",
   "metadata": {
    "tags": []
   },
   "outputs": [],
   "source": [
    "if (npy_path != [] and append):\n",
    "        print(\"pass\")"
   ]
  },
  {
   "cell_type": "code",
   "execution_count": null,
   "id": "3b1aba11-fac9-45f1-9e4b-449a88703135",
   "metadata": {
    "tags": []
   },
   "outputs": [],
   "source": [
    "np.save(\"./augmented_segmented/{}.npy\".format(series_uid), hu_a)"
   ]
  }
 ],
 "metadata": {
  "kernelspec": {
   "display_name": "Python 3 (ipykernel)",
   "language": "python",
   "name": "python3"
  },
  "language_info": {
   "codemirror_mode": {
    "name": "ipython",
    "version": 3
   },
   "file_extension": ".py",
   "mimetype": "text/x-python",
   "name": "python",
   "nbconvert_exporter": "python",
   "pygments_lexer": "ipython3",
   "version": "3.11.5"
  }
 },
 "nbformat": 4,
 "nbformat_minor": 5
}
