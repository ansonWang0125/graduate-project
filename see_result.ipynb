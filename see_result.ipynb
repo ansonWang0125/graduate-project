{
 "cells": [
  {
   "cell_type": "code",
   "execution_count": null,
   "metadata": {
    "tags": []
   },
   "outputs": [],
   "source": [
    "# test\n",
    "import os\n",
    "import SimpleITK as sitk\n",
    "import numpy as np\n",
    "import matplotlib.pyplot as plt\n",
    "import random as rd\n",
    "from tqdm import tqdm\n",
    "from scipy.spatial import ConvexHull\n",
    "%matplotlib inline\n",
    "\n",
    "\n",
    "rd.seed(42)\n",
    "\n",
    "root3 = \"./augmented_segmented\"\n",
    "\n",
    "\n",
    "for e, path in tqdm(enumerate(os.listdir(root3)), desc='Loading'):\n",
    "    if path.find(\"npy\") >= 0 and e == 0:\n",
    "        try:\n",
    "            # print(int(e), path)\n",
    "            te_data = np.load(os.path.join(root3, path))\n",
    "            print(len(os.listdir(root3)))\n",
    "            hull = ConvexHull(te_data)\n",
    "            corners=[]\n",
    "            for simplex in hull.simplices:\n",
    "                corners+=list(simplex)\n",
    "            plt.fill(te_data[corners, 0], te_data[corners, 1], 'k',alpha=0.3)\n",
    "            # te_data = sitk.ReadImage(os.path.join(root3, path))\n",
    "            # te_data = sitk.GetArrayFromImage(te_data)\n",
    "            # random_indices = rd.sample(range(100, len(te_data)-100), 20)\n",
    "            # te_data = te_data[random_indices]\n",
    "            # print(te_data.shape)\n",
    "#             for i in range(int(len(te_data)/10)):\n",
    "#                 fig, ax = plt.subplots(1, 10, figsize=[20, 150])\n",
    "#                 for j in range(10):\n",
    "                    \n",
    "#                     ax[j].set_title(f\"CT Scan {e}, {random_indices[i*10+j]}\")\n",
    "#                     ax[j].imshow(np.squeeze(te_data[i*10+j]), cmap='gray')\n",
    "        except Exception as e:\n",
    "            print (e)\n",
    "            pass"
   ]
  },
  {
   "cell_type": "code",
   "execution_count": null,
   "metadata": {},
   "outputs": [],
   "source": []
  }
 ],
 "metadata": {
  "kernelspec": {
   "display_name": "Python 3 (ipykernel)",
   "language": "python",
   "name": "python3"
  },
  "language_info": {
   "codemirror_mode": {
    "name": "ipython",
    "version": 3
   },
   "file_extension": ".py",
   "mimetype": "text/x-python",
   "name": "python",
   "nbconvert_exporter": "python",
   "pygments_lexer": "ipython3",
   "version": "3.11.5"
  }
 },
 "nbformat": 4,
 "nbformat_minor": 4
}
