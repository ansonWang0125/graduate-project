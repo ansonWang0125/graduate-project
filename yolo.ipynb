{
 "cells": [
  {
   "cell_type": "code",
   "execution_count": 1,
   "metadata": {},
   "outputs": [
    {
     "data": {
      "text/html": [
       "<div>\n",
       "<style scoped>\n",
       "    .dataframe tbody tr th:only-of-type {\n",
       "        vertical-align: middle;\n",
       "    }\n",
       "\n",
       "    .dataframe tbody tr th {\n",
       "        vertical-align: top;\n",
       "    }\n",
       "\n",
       "    .dataframe thead th {\n",
       "        text-align: right;\n",
       "    }\n",
       "</style>\n",
       "<table border=\"1\" class=\"dataframe\">\n",
       "  <thead>\n",
       "    <tr style=\"text-align: right;\">\n",
       "      <th></th>\n",
       "      <th>seriesuid</th>\n",
       "      <th>coordX</th>\n",
       "      <th>coordY</th>\n",
       "      <th>coordZ</th>\n",
       "      <th>diameter_mm</th>\n",
       "      <th>mal_bool</th>\n",
       "      <th>mal_details</th>\n",
       "      <th>bboxLowX</th>\n",
       "      <th>bboxLowY</th>\n",
       "      <th>bboxLowZ</th>\n",
       "      <th>bboxHighX</th>\n",
       "      <th>bboxHighY</th>\n",
       "      <th>bboxHighZ</th>\n",
       "      <th>len_mal_details</th>\n",
       "    </tr>\n",
       "  </thead>\n",
       "  <tbody>\n",
       "    <tr>\n",
       "      <th>0</th>\n",
       "      <td>1.3.6.1.4.1.14519.5.2.1.6279.6001.100225287222...</td>\n",
       "      <td>-128.699421</td>\n",
       "      <td>-175.319272</td>\n",
       "      <td>-298.387506</td>\n",
       "      <td>5.651471</td>\n",
       "      <td>True</td>\n",
       "      <td>[4, 2, 4, 2]</td>\n",
       "      <td>-131.896480</td>\n",
       "      <td>-178.259761</td>\n",
       "      <td>-299.800004</td>\n",
       "      <td>-125.451167</td>\n",
       "      <td>-172.458980</td>\n",
       "      <td>-296.200004</td>\n",
       "      <td>4</td>\n",
       "    </tr>\n",
       "    <tr>\n",
       "      <th>1</th>\n",
       "      <td>1.3.6.1.4.1.14519.5.2.1.6279.6001.265775376735...</td>\n",
       "      <td>-69.175741</td>\n",
       "      <td>218.052625</td>\n",
       "      <td>-668.501273</td>\n",
       "      <td>4.441200</td>\n",
       "      <td>False</td>\n",
       "      <td>[3, 2, 3]</td>\n",
       "      <td>-71.815939</td>\n",
       "      <td>215.709820</td>\n",
       "      <td>-670.900024</td>\n",
       "      <td>-66.722189</td>\n",
       "      <td>220.803570</td>\n",
       "      <td>-666.900024</td>\n",
       "      <td>3</td>\n",
       "    </tr>\n",
       "    <tr>\n",
       "      <th>2</th>\n",
       "      <td>1.3.6.1.4.1.14519.5.2.1.6279.6001.276556509002...</td>\n",
       "      <td>-67.459503</td>\n",
       "      <td>-247.744211</td>\n",
       "      <td>-211.095340</td>\n",
       "      <td>7.744222</td>\n",
       "      <td>True</td>\n",
       "      <td>[5, 3, 4]</td>\n",
       "      <td>-73.027344</td>\n",
       "      <td>-253.847656</td>\n",
       "      <td>-213.100004</td>\n",
       "      <td>-61.074219</td>\n",
       "      <td>-242.558594</td>\n",
       "      <td>-209.500004</td>\n",
       "      <td>3</td>\n",
       "    </tr>\n",
       "    <tr>\n",
       "      <th>3</th>\n",
       "      <td>1.3.6.1.4.1.14519.5.2.1.6279.6001.276556509002...</td>\n",
       "      <td>-97.690876</td>\n",
       "      <td>-134.068054</td>\n",
       "      <td>-187.094883</td>\n",
       "      <td>6.690036</td>\n",
       "      <td>False</td>\n",
       "      <td>[3, 3, 3]</td>\n",
       "      <td>-102.910156</td>\n",
       "      <td>-137.636719</td>\n",
       "      <td>-189.700005</td>\n",
       "      <td>-92.949219</td>\n",
       "      <td>-130.332031</td>\n",
       "      <td>-186.100005</td>\n",
       "      <td>3</td>\n",
       "    </tr>\n",
       "    <tr>\n",
       "      <th>4</th>\n",
       "      <td>1.3.6.1.4.1.14519.5.2.1.6279.6001.276710697414...</td>\n",
       "      <td>69.529141</td>\n",
       "      <td>87.036153</td>\n",
       "      <td>-149.190113</td>\n",
       "      <td>10.824515</td>\n",
       "      <td>False</td>\n",
       "      <td>[3, 3, 5, 2]</td>\n",
       "      <td>63.731247</td>\n",
       "      <td>80.468750</td>\n",
       "      <td>-154.000000</td>\n",
       "      <td>76.231247</td>\n",
       "      <td>93.750000</td>\n",
       "      <td>-144.000000</td>\n",
       "      <td>4</td>\n",
       "    </tr>\n",
       "  </tbody>\n",
       "</table>\n",
       "</div>"
      ],
      "text/plain": [
       "                                           seriesuid      coordX      coordY  \\\n",
       "0  1.3.6.1.4.1.14519.5.2.1.6279.6001.100225287222... -128.699421 -175.319272   \n",
       "1  1.3.6.1.4.1.14519.5.2.1.6279.6001.265775376735...  -69.175741  218.052625   \n",
       "2  1.3.6.1.4.1.14519.5.2.1.6279.6001.276556509002...  -67.459503 -247.744211   \n",
       "3  1.3.6.1.4.1.14519.5.2.1.6279.6001.276556509002...  -97.690876 -134.068054   \n",
       "4  1.3.6.1.4.1.14519.5.2.1.6279.6001.276710697414...   69.529141   87.036153   \n",
       "\n",
       "       coordZ  diameter_mm  mal_bool   mal_details    bboxLowX    bboxLowY  \\\n",
       "0 -298.387506     5.651471      True  [4, 2, 4, 2] -131.896480 -178.259761   \n",
       "1 -668.501273     4.441200     False     [3, 2, 3]  -71.815939  215.709820   \n",
       "2 -211.095340     7.744222      True     [5, 3, 4]  -73.027344 -253.847656   \n",
       "3 -187.094883     6.690036     False     [3, 3, 3] -102.910156 -137.636719   \n",
       "4 -149.190113    10.824515     False  [3, 3, 5, 2]   63.731247   80.468750   \n",
       "\n",
       "     bboxLowZ   bboxHighX   bboxHighY   bboxHighZ  len_mal_details  \n",
       "0 -299.800004 -125.451167 -172.458980 -296.200004                4  \n",
       "1 -670.900024  -66.722189  220.803570 -666.900024                3  \n",
       "2 -213.100004  -61.074219 -242.558594 -209.500004                3  \n",
       "3 -189.700005  -92.949219 -130.332031 -186.100005                3  \n",
       "4 -154.000000   76.231247   93.750000 -144.000000                4  "
      ]
     },
     "execution_count": 1,
     "metadata": {},
     "output_type": "execute_result"
    }
   ],
   "source": [
    "import pandas as pd\n",
    "import glob\n",
    "import SimpleITK as sitk\n",
    "import numpy as np\n",
    "import collections\n",
    "from PIL import Image, ImageDraw\n",
    "from segmentation import segment\n",
    "\n",
    "df = pd.read_csv('E:/LUNA/annotation/annotations_with_malignancy.csv')\n",
    "df.head()"
   ]
  },
  {
   "cell_type": "code",
   "execution_count": 31,
   "metadata": {},
   "outputs": [
    {
     "data": {
      "text/html": [
       "<div>\n",
       "<style scoped>\n",
       "    .dataframe tbody tr th:only-of-type {\n",
       "        vertical-align: middle;\n",
       "    }\n",
       "\n",
       "    .dataframe tbody tr th {\n",
       "        vertical-align: top;\n",
       "    }\n",
       "\n",
       "    .dataframe thead th {\n",
       "        text-align: right;\n",
       "    }\n",
       "</style>\n",
       "<table border=\"1\" class=\"dataframe\">\n",
       "  <thead>\n",
       "    <tr style=\"text-align: right;\">\n",
       "      <th></th>\n",
       "      <th>seriesuid</th>\n",
       "      <th>coordX</th>\n",
       "      <th>coordY</th>\n",
       "      <th>coordZ</th>\n",
       "      <th>class</th>\n",
       "    </tr>\n",
       "  </thead>\n",
       "  <tbody>\n",
       "    <tr>\n",
       "      <th>0</th>\n",
       "      <td>1.3.6.1.4.1.14519.5.2.1.6279.6001.100225287222...</td>\n",
       "      <td>68.420000</td>\n",
       "      <td>-74.480000</td>\n",
       "      <td>-288.700000</td>\n",
       "      <td>0</td>\n",
       "    </tr>\n",
       "    <tr>\n",
       "      <th>1</th>\n",
       "      <td>1.3.6.1.4.1.14519.5.2.1.6279.6001.100225287222...</td>\n",
       "      <td>-95.209361</td>\n",
       "      <td>-91.809406</td>\n",
       "      <td>-377.426350</td>\n",
       "      <td>0</td>\n",
       "    </tr>\n",
       "    <tr>\n",
       "      <th>2</th>\n",
       "      <td>1.3.6.1.4.1.14519.5.2.1.6279.6001.100225287222...</td>\n",
       "      <td>-24.766755</td>\n",
       "      <td>-120.379294</td>\n",
       "      <td>-273.361539</td>\n",
       "      <td>0</td>\n",
       "    </tr>\n",
       "    <tr>\n",
       "      <th>3</th>\n",
       "      <td>1.3.6.1.4.1.14519.5.2.1.6279.6001.100225287222...</td>\n",
       "      <td>-63.080000</td>\n",
       "      <td>-65.740000</td>\n",
       "      <td>-344.240000</td>\n",
       "      <td>0</td>\n",
       "    </tr>\n",
       "    <tr>\n",
       "      <th>4</th>\n",
       "      <td>1.3.6.1.4.1.14519.5.2.1.6279.6001.100225287222...</td>\n",
       "      <td>52.946688</td>\n",
       "      <td>-92.688873</td>\n",
       "      <td>-241.067872</td>\n",
       "      <td>0</td>\n",
       "    </tr>\n",
       "  </tbody>\n",
       "</table>\n",
       "</div>"
      ],
      "text/plain": [
       "                                           seriesuid     coordX      coordY  \\\n",
       "0  1.3.6.1.4.1.14519.5.2.1.6279.6001.100225287222...  68.420000  -74.480000   \n",
       "1  1.3.6.1.4.1.14519.5.2.1.6279.6001.100225287222... -95.209361  -91.809406   \n",
       "2  1.3.6.1.4.1.14519.5.2.1.6279.6001.100225287222... -24.766755 -120.379294   \n",
       "3  1.3.6.1.4.1.14519.5.2.1.6279.6001.100225287222... -63.080000  -65.740000   \n",
       "4  1.3.6.1.4.1.14519.5.2.1.6279.6001.100225287222...  52.946688  -92.688873   \n",
       "\n",
       "       coordZ  class  \n",
       "0 -288.700000      0  \n",
       "1 -377.426350      0  \n",
       "2 -273.361539      0  \n",
       "3 -344.240000      0  \n",
       "4 -241.067872      0  "
      ]
     },
     "execution_count": 31,
     "metadata": {},
     "output_type": "execute_result"
    }
   ],
   "source": [
    "candidate = pd.read_csv('E:/LUNA/annotation/candidates_V2.csv')\n",
    "candidate.head()"
   ]
  },
  {
   "cell_type": "code",
   "execution_count": 32,
   "metadata": {},
   "outputs": [
    {
     "data": {
      "text/plain": [
       "888"
      ]
     },
     "execution_count": 32,
     "metadata": {},
     "output_type": "execute_result"
    }
   ],
   "source": [
    "unique_count = candidate['seriesuid'].nunique()\n",
    "unique_count"
   ]
  },
  {
   "cell_type": "code",
   "execution_count": 44,
   "metadata": {},
   "outputs": [],
   "source": [
    "import os\n",
    "import csv\n",
    "import collections\n",
    "from collections import namedtuple  \n",
    "mhd_list = glob.glob('E:/LUNA/Luna_Data/subset*/*.mhd')\n",
    "CandidateInfoTuple = namedtuple('CandidateInfoTuple', 'isNodule_bool, hasAnnotation_bool, isMal_bool, diameter_mm, series_uid, center_xyz')\n",
    "requireOnDisk_bool=True\n",
    "presentOnDisk_set = {os.path.split(p)[-1][:-4] for p in mhd_list}\n",
    "\n",
    "candidateInfo_list = []\n",
    "with open('E:/LUNA/annotation/annotations_with_malignancy.csv', \"r\") as f:\n",
    "    for row in list(csv.reader(f))[1:]:\n",
    "        series_uid = row[0]\n",
    "        annotationCenter_xyz = tuple([float(x) for x in row[1:4]])\n",
    "        annotationDiameter_mm = float(row[4])\n",
    "        isMal_bool = {'False': False, 'True': True}[row[5]] #it record the malignancy or not\n",
    "\n",
    "        if series_uid not in presentOnDisk_set and requireOnDisk_bool:\n",
    "            continue\n",
    "\n",
    "        candidateInfo_list.append(\n",
    "            CandidateInfoTuple(\n",
    "                True,\n",
    "                True,\n",
    "                isMal_bool,\n",
    "                annotationDiameter_mm,\n",
    "                series_uid,\n",
    "                annotationCenter_xyz,\n",
    "            )\n",
    "        )\n",
    "\n",
    "with open('E:/LUNA/annotation/candidates_V2.csv', \"r\") as f:\n",
    "    for row in list(csv.reader(f))[1:]:\n",
    "        series_uid = row[0]\n",
    "\n",
    "        if series_uid not in presentOnDisk_set and requireOnDisk_bool:\n",
    "            continue\n",
    "\n",
    "        isNodule_bool = bool(int(row[4]))\n",
    "        candidateCenter_xyz = tuple([float(x) for x in row[1:4]])\n",
    "\n",
    "        if not isNodule_bool:\n",
    "            candidateInfo_list.append(\n",
    "                CandidateInfoTuple(\n",
    "                    False,\n",
    "                    False,\n",
    "                    False,\n",
    "                    0.0,\n",
    "                    series_uid,\n",
    "                    candidateCenter_xyz,\n",
    "                )\n",
    "            )\n",
    "\n",
    "candidateInfo_list.sort(reverse=True)"
   ]
  },
  {
   "cell_type": "code",
   "execution_count": 45,
   "metadata": {},
   "outputs": [],
   "source": [
    "candidateInfo_dict = {}\n",
    "\n",
    "for candidateInfo_tup in candidateInfo_list:\n",
    "    candidateInfo_dict.setdefault(candidateInfo_tup.series_uid,\n",
    "                                  []).append(candidateInfo_tup)"
   ]
  },
  {
   "cell_type": "code",
   "execution_count": 46,
   "metadata": {},
   "outputs": [
    {
     "data": {
      "text/plain": [
       "888"
      ]
     },
     "execution_count": 46,
     "metadata": {},
     "output_type": "execute_result"
    }
   ],
   "source": [
    "len(candidateInfo_dict)"
   ]
  },
  {
   "cell_type": "code",
   "execution_count": 47,
   "metadata": {},
   "outputs": [],
   "source": [
    "candidateInfo_list.sort(key=lambda x: x.series_uid)"
   ]
  },
  {
   "cell_type": "code",
   "execution_count": 48,
   "metadata": {},
   "outputs": [
    {
     "data": {
      "text/plain": [
       "888"
      ]
     },
     "execution_count": 48,
     "metadata": {},
     "output_type": "execute_result"
    }
   ],
   "source": [
    "len(candidateInfo_dict)"
   ]
  },
  {
   "cell_type": "code",
   "execution_count": 3,
   "metadata": {},
   "outputs": [
    {
     "data": {
      "text/plain": [
       "class\n",
       "0    753418\n",
       "1      1557\n",
       "Name: count, dtype: int64"
      ]
     },
     "execution_count": 3,
     "metadata": {},
     "output_type": "execute_result"
    }
   ],
   "source": [
    "tmp = candidate['class']\n",
    "tmp.value_counts()"
   ]
  },
  {
   "cell_type": "code",
   "execution_count": 4,
   "metadata": {},
   "outputs": [
    {
     "data": {
      "text/html": [
       "<div>\n",
       "<style scoped>\n",
       "    .dataframe tbody tr th:only-of-type {\n",
       "        vertical-align: middle;\n",
       "    }\n",
       "\n",
       "    .dataframe tbody tr th {\n",
       "        vertical-align: top;\n",
       "    }\n",
       "\n",
       "    .dataframe thead th {\n",
       "        text-align: right;\n",
       "    }\n",
       "</style>\n",
       "<table border=\"1\" class=\"dataframe\">\n",
       "  <thead>\n",
       "    <tr style=\"text-align: right;\">\n",
       "      <th></th>\n",
       "      <th>seriesuid</th>\n",
       "      <th>coordX</th>\n",
       "      <th>coordY</th>\n",
       "      <th>coordZ</th>\n",
       "      <th>mal_bool</th>\n",
       "    </tr>\n",
       "  </thead>\n",
       "  <tbody>\n",
       "    <tr>\n",
       "      <th>0</th>\n",
       "      <td>1.3.6.1.4.1.14519.5.2.1.6279.6001.100225287222...</td>\n",
       "      <td>-128.699421</td>\n",
       "      <td>-175.319272</td>\n",
       "      <td>-298.387506</td>\n",
       "      <td>True</td>\n",
       "    </tr>\n",
       "    <tr>\n",
       "      <th>1</th>\n",
       "      <td>1.3.6.1.4.1.14519.5.2.1.6279.6001.265775376735...</td>\n",
       "      <td>-69.175741</td>\n",
       "      <td>218.052625</td>\n",
       "      <td>-668.501273</td>\n",
       "      <td>False</td>\n",
       "    </tr>\n",
       "    <tr>\n",
       "      <th>2</th>\n",
       "      <td>1.3.6.1.4.1.14519.5.2.1.6279.6001.276556509002...</td>\n",
       "      <td>-67.459503</td>\n",
       "      <td>-247.744211</td>\n",
       "      <td>-211.095340</td>\n",
       "      <td>True</td>\n",
       "    </tr>\n",
       "    <tr>\n",
       "      <th>3</th>\n",
       "      <td>1.3.6.1.4.1.14519.5.2.1.6279.6001.276556509002...</td>\n",
       "      <td>-97.690876</td>\n",
       "      <td>-134.068054</td>\n",
       "      <td>-187.094883</td>\n",
       "      <td>False</td>\n",
       "    </tr>\n",
       "    <tr>\n",
       "      <th>4</th>\n",
       "      <td>1.3.6.1.4.1.14519.5.2.1.6279.6001.276710697414...</td>\n",
       "      <td>69.529141</td>\n",
       "      <td>87.036153</td>\n",
       "      <td>-149.190113</td>\n",
       "      <td>False</td>\n",
       "    </tr>\n",
       "    <tr>\n",
       "      <th>...</th>\n",
       "      <td>...</td>\n",
       "      <td>...</td>\n",
       "      <td>...</td>\n",
       "      <td>...</td>\n",
       "      <td>...</td>\n",
       "    </tr>\n",
       "    <tr>\n",
       "      <th>1177</th>\n",
       "      <td>1.3.6.1.4.1.14519.5.2.1.6279.6001.299767339686...</td>\n",
       "      <td>-57.725518</td>\n",
       "      <td>73.779494</td>\n",
       "      <td>-147.415580</td>\n",
       "      <td>False</td>\n",
       "    </tr>\n",
       "    <tr>\n",
       "      <th>1178</th>\n",
       "      <td>1.3.6.1.4.1.14519.5.2.1.6279.6001.299767339686...</td>\n",
       "      <td>-72.287990</td>\n",
       "      <td>-77.481968</td>\n",
       "      <td>-160.486254</td>\n",
       "      <td>False</td>\n",
       "    </tr>\n",
       "    <tr>\n",
       "      <th>1179</th>\n",
       "      <td>1.3.6.1.4.1.14519.5.2.1.6279.6001.299767339686...</td>\n",
       "      <td>96.625954</td>\n",
       "      <td>-46.154823</td>\n",
       "      <td>-88.229432</td>\n",
       "      <td>False</td>\n",
       "    </tr>\n",
       "    <tr>\n",
       "      <th>1180</th>\n",
       "      <td>1.3.6.1.4.1.14519.5.2.1.6279.6001.297433269262...</td>\n",
       "      <td>33.104795</td>\n",
       "      <td>-63.116434</td>\n",
       "      <td>-108.725571</td>\n",
       "      <td>False</td>\n",
       "    </tr>\n",
       "    <tr>\n",
       "      <th>1181</th>\n",
       "      <td>1.3.6.1.4.1.14519.5.2.1.6279.6001.309955999522...</td>\n",
       "      <td>-96.744406</td>\n",
       "      <td>37.573945</td>\n",
       "      <td>-138.160430</td>\n",
       "      <td>False</td>\n",
       "    </tr>\n",
       "  </tbody>\n",
       "</table>\n",
       "<p>1182 rows × 5 columns</p>\n",
       "</div>"
      ],
      "text/plain": [
       "                                              seriesuid      coordX  \\\n",
       "0     1.3.6.1.4.1.14519.5.2.1.6279.6001.100225287222... -128.699421   \n",
       "1     1.3.6.1.4.1.14519.5.2.1.6279.6001.265775376735...  -69.175741   \n",
       "2     1.3.6.1.4.1.14519.5.2.1.6279.6001.276556509002...  -67.459503   \n",
       "3     1.3.6.1.4.1.14519.5.2.1.6279.6001.276556509002...  -97.690876   \n",
       "4     1.3.6.1.4.1.14519.5.2.1.6279.6001.276710697414...   69.529141   \n",
       "...                                                 ...         ...   \n",
       "1177  1.3.6.1.4.1.14519.5.2.1.6279.6001.299767339686...  -57.725518   \n",
       "1178  1.3.6.1.4.1.14519.5.2.1.6279.6001.299767339686...  -72.287990   \n",
       "1179  1.3.6.1.4.1.14519.5.2.1.6279.6001.299767339686...   96.625954   \n",
       "1180  1.3.6.1.4.1.14519.5.2.1.6279.6001.297433269262...   33.104795   \n",
       "1181  1.3.6.1.4.1.14519.5.2.1.6279.6001.309955999522...  -96.744406   \n",
       "\n",
       "          coordY      coordZ  mal_bool  \n",
       "0    -175.319272 -298.387506      True  \n",
       "1     218.052625 -668.501273     False  \n",
       "2    -247.744211 -211.095340      True  \n",
       "3    -134.068054 -187.094883     False  \n",
       "4      87.036153 -149.190113     False  \n",
       "...          ...         ...       ...  \n",
       "1177   73.779494 -147.415580     False  \n",
       "1178  -77.481968 -160.486254     False  \n",
       "1179  -46.154823  -88.229432     False  \n",
       "1180  -63.116434 -108.725571     False  \n",
       "1181   37.573945 -138.160430     False  \n",
       "\n",
       "[1182 rows x 5 columns]"
      ]
     },
     "execution_count": 4,
     "metadata": {},
     "output_type": "execute_result"
    }
   ],
   "source": [
    "tmp_data = []\n",
    "for index, row in df.iterrows():\n",
    "    seriesuid = row['seriesuid']\n",
    "    coordX = row['coordX']\n",
    "    coordY = row['coordY']\n",
    "    coordZ = row['coordZ']\n",
    "    mal_bool = row['mal_bool']\n",
    "    \n",
    "    \n",
    "    # Append a new row to the new_data list\n",
    "    tmp_data.append([seriesuid, coordX, coordY, coordZ, mal_bool])\n",
    "\n",
    "# Create a new DataFrame with the specified columns\n",
    "new_df = pd.DataFrame(tmp_data, columns=['seriesuid', 'coordX', 'coordY', 'coordZ', 'mal_bool'])\n",
    "\n",
    "# Print the new DataFrame\n",
    "new_df"
   ]
  },
  {
   "cell_type": "code",
   "execution_count": 5,
   "metadata": {},
   "outputs": [
    {
     "name": "stdout",
     "output_type": "stream",
     "text": [
      "1182\n"
     ]
    }
   ],
   "source": [
    "unique_value_count = new_df['coordZ'].nunique()\n",
    "print(unique_value_count)"
   ]
  },
  {
   "cell_type": "code",
   "execution_count": 6,
   "metadata": {},
   "outputs": [],
   "source": [
    "# Create an empty dictionary to store the result\n",
    "result_dict = {}\n",
    "\n",
    "# Iterate through the DataFrame and populate the dictionary\n",
    "for index, row in df.iterrows():\n",
    "    seriesuid = row['seriesuid']\n",
    "    coordinates = [row['coordX'], row['coordY'], row['coordZ']]\n",
    "    # Check if the seriesuid is already in the dictionary, if not, add a new entry\n",
    "    if seriesuid in result_dict:\n",
    "        result_dict[seriesuid].append(coordinates)\n",
    "    else:\n",
    "        result_dict[seriesuid] = [coordinates]\n",
    "\n",
    "# Print the resulting dictionary\n",
    "# print(result_dict)"
   ]
  },
  {
   "cell_type": "code",
   "execution_count": 7,
   "metadata": {},
   "outputs": [],
   "source": [
    "# # Iterate through the dictionary and print key along with the count of coordinate sets\n",
    "# for key, value in result_dict.items():\n",
    "#     print(f\"{key}: {len(value)}\")"
   ]
  },
  {
   "cell_type": "code",
   "execution_count": 8,
   "metadata": {},
   "outputs": [
    {
     "data": {
      "text/plain": [
       "600"
      ]
     },
     "execution_count": 8,
     "metadata": {},
     "output_type": "execute_result"
    }
   ],
   "source": [
    "len(result_dict)"
   ]
  },
  {
   "cell_type": "code",
   "execution_count": 9,
   "metadata": {},
   "outputs": [],
   "source": [
    "# for key in result_dict.keys():\n",
    "#     print(key, result_dict[key])"
   ]
  },
  {
   "cell_type": "code",
   "execution_count": 10,
   "metadata": {},
   "outputs": [],
   "source": [
    "XyzTuple = collections.namedtuple('XyzTuple', ['x', 'y', 'z'])\n",
    "IrcTuple = collections.namedtuple('IrcTuple', ['index', 'row', 'col'])\n",
    "def xyz2irc(coord_xyz, origin_xyz, vxSize_xyz, direction_a):\n",
    "    origin_a = np.array(origin_xyz)\n",
    "    vxSize_a = np.array(vxSize_xyz)\n",
    "    coord_a = np.array(coord_xyz)\n",
    "    cri_a = ((coord_a - origin_a) @ np.linalg.inv(direction_a)) / vxSize_a\n",
    "    cri_a = np.round(cri_a)\n",
    "    return IrcTuple(int(cri_a[2]), int(cri_a[1]), int(cri_a[0]))\n"
   ]
  },
  {
   "cell_type": "code",
   "execution_count": 11,
   "metadata": {},
   "outputs": [],
   "source": [
    "from tqdm import tqdm"
   ]
  },
  {
   "cell_type": "code",
   "execution_count": 12,
   "metadata": {},
   "outputs": [
    {
     "data": {
      "text/plain": [
       "['1.3.6.1.4.1.14519.5.2.1.6279.6001.100225287222365663678666836860',\n",
       " '1.3.6.1.4.1.14519.5.2.1.6279.6001.265775376735520890308424143898',\n",
       " '1.3.6.1.4.1.14519.5.2.1.6279.6001.276556509002726404418399209377',\n",
       " '1.3.6.1.4.1.14519.5.2.1.6279.6001.276710697414087561012670296643',\n",
       " '1.3.6.1.4.1.14519.5.2.1.6279.6001.277452631455527999380186898011',\n",
       " '1.3.6.1.4.1.14519.5.2.1.6279.6001.277662902666135640561346462196',\n",
       " '1.3.6.1.4.1.14519.5.2.1.6279.6001.278010349511857248000260557753',\n",
       " '1.3.6.1.4.1.14519.5.2.1.6279.6001.279300249795483097365868125932',\n",
       " '1.3.6.1.4.1.14519.5.2.1.6279.6001.280072876841890439628529365478',\n",
       " '1.3.6.1.4.1.14519.5.2.1.6279.6001.280125803152924778388346920341']"
      ]
     },
     "execution_count": 12,
     "metadata": {},
     "output_type": "execute_result"
    }
   ],
   "source": [
    "list(result_dict.keys())[0:10]"
   ]
  },
  {
   "cell_type": "code",
   "execution_count": 13,
   "metadata": {},
   "outputs": [],
   "source": [
    "def np2Png(np_arr, target_name):\n",
    "    min_value = np.min(np_arr)\n",
    "    max_value = np.max(np_arr)\n",
    "    scaled_np_arr = (np_arr - min_value) / (max_value - min_value) * 255\n",
    "    scaled_np_arr = scaled_np_arr.astype(np.uint8)\n",
    "    slice_ori = Image.fromarray(scaled_np_arr, mode='L')\n",
    "    slice_ori.save(target_name)"
   ]
  },
  {
   "cell_type": "code",
   "execution_count": 14,
   "metadata": {},
   "outputs": [
    {
     "name": "stderr",
     "output_type": "stream",
     "text": [
      "Searching:   8%|█████▎                                                                | 45/600 [00:13<02:13,  4.15it/s]"
     ]
    },
    {
     "name": "stdout",
     "output_type": "stream",
     "text": [
      "102\n"
     ]
    },
    {
     "name": "stderr",
     "output_type": "stream",
     "text": [
      "C:\\Users\\oplab\\anaconda3\\lib\\site-packages\\torchvision\\models\\_utils.py:208: UserWarning: The parameter 'pretrained' is deprecated since 0.13 and may be removed in the future, please use 'weights' instead.\n",
      "  warnings.warn(\n",
      "C:\\Users\\oplab\\anaconda3\\lib\\site-packages\\torchvision\\models\\_utils.py:223: UserWarning: Arguments other than a weight enum or `None` for 'weights' are deprecated since 0.13 and may be removed in the future. The current behavior is equivalent to passing `weights=ResNet34_Weights.IMAGENET1K_V1`. You can also use `weights=ResNet34_Weights.DEFAULT` to get the most up-to-date weights.\n",
      "  warnings.warn(msg)\n"
     ]
    },
    {
     "name": "stdout",
     "output_type": "stream",
     "text": [
      "(102, 512, 512)\n"
     ]
    },
    {
     "name": "stderr",
     "output_type": "stream",
     "text": [
      "Searching:  15%|██████████▌                                                           | 90/600 [03:44<02:32,  3.34it/s]"
     ]
    },
    {
     "name": "stdout",
     "output_type": "stream",
     "text": [
      "102\n"
     ]
    },
    {
     "name": "stderr",
     "output_type": "stream",
     "text": [
      "C:\\Users\\oplab\\anaconda3\\lib\\site-packages\\torchvision\\models\\_utils.py:208: UserWarning: The parameter 'pretrained' is deprecated since 0.13 and may be removed in the future, please use 'weights' instead.\n",
      "  warnings.warn(\n",
      "C:\\Users\\oplab\\anaconda3\\lib\\site-packages\\torchvision\\models\\_utils.py:223: UserWarning: Arguments other than a weight enum or `None` for 'weights' are deprecated since 0.13 and may be removed in the future. The current behavior is equivalent to passing `weights=ResNet34_Weights.IMAGENET1K_V1`. You can also use `weights=ResNet34_Weights.DEFAULT` to get the most up-to-date weights.\n",
      "  warnings.warn(msg)\n"
     ]
    },
    {
     "name": "stdout",
     "output_type": "stream",
     "text": [
      "(102, 512, 512)\n"
     ]
    },
    {
     "name": "stderr",
     "output_type": "stream",
     "text": [
      "Searching:  23%|███████████████▊                                                     | 138/600 [09:19<28:10,  3.66s/it]"
     ]
    },
    {
     "name": "stdout",
     "output_type": "stream",
     "text": [
      "101\n",
      "(101, 512, 512)\n"
     ]
    },
    {
     "name": "stderr",
     "output_type": "stream",
     "text": [
      "Searching:  34%|██████████████████████▍                                            | 201/600 [22:23<1:56:40, 17.54s/it]"
     ]
    },
    {
     "name": "stdout",
     "output_type": "stream",
     "text": [
      "102\n",
      "(102, 512, 512)\n"
     ]
    },
    {
     "name": "stderr",
     "output_type": "stream",
     "text": [
      "Searching:  41%|████████████████████████████▎                                        | 246/600 [30:52<25:36,  4.34s/it]"
     ]
    },
    {
     "name": "stdout",
     "output_type": "stream",
     "text": [
      "101\n",
      "(101, 512, 512)\n"
     ]
    },
    {
     "name": "stderr",
     "output_type": "stream",
     "text": [
      "Searching:  51%|███████████████████████████████████▎                                 | 307/600 [42:10<46:05,  9.44s/it]"
     ]
    },
    {
     "name": "stdout",
     "output_type": "stream",
     "text": [
      "101\n",
      "(101, 512, 512)\n"
     ]
    },
    {
     "name": "stderr",
     "output_type": "stream",
     "text": [
      "Searching:  58%|████████████████████████████████████████▎                            | 351/600 [50:37<16:04,  3.87s/it]"
     ]
    },
    {
     "name": "stdout",
     "output_type": "stream",
     "text": [
      "102\n",
      "(102, 512, 512)\n"
     ]
    },
    {
     "name": "stderr",
     "output_type": "stream",
     "text": [
      "Searching:  67%|██████████████████████████████████████████████▍                      | 404/600 [58:48<19:58,  6.12s/it]"
     ]
    },
    {
     "name": "stdout",
     "output_type": "stream",
     "text": [
      "102\n",
      "(102, 512, 512)\n"
     ]
    },
    {
     "name": "stderr",
     "output_type": "stream",
     "text": [
      "Searching:  76%|██████████████████████████████████████████████████▋                | 454/600 [1:06:41<12:45,  5.25s/it]"
     ]
    },
    {
     "name": "stdout",
     "output_type": "stream",
     "text": [
      "106\n",
      "(106, 512, 512)\n"
     ]
    },
    {
     "name": "stderr",
     "output_type": "stream",
     "text": [
      "Searching:  84%|████████████████████████████████████████████████████████           | 502/600 [1:14:26<09:27,  5.79s/it]"
     ]
    },
    {
     "name": "stdout",
     "output_type": "stream",
     "text": [
      "101\n",
      "(101, 512, 512)\n"
     ]
    },
    {
     "name": "stderr",
     "output_type": "stream",
     "text": [
      "Searching:  93%|██████████████████████████████████████████████████████████████     | 556/600 [1:29:19<26:45, 36.50s/it]"
     ]
    },
    {
     "name": "stdout",
     "output_type": "stream",
     "text": [
      "109\n",
      "(109, 512, 512)\n"
     ]
    },
    {
     "name": "stderr",
     "output_type": "stream",
     "text": [
      "Searching: 100%|███████████████████████████████████████████████████████████████████| 600/600 [1:38:02<00:00,  9.80s/it]\n"
     ]
    }
   ],
   "source": [
    "final_list = []\n",
    "uid_list = []\n",
    "nob_list = []\n",
    "boolean_list = []\n",
    "counter = 0\n",
    "for key in tqdm(list(result_dict.keys()), desc=\"Searching\"):\n",
    "    # print(key, result_dict[key])\n",
    "    # Glob finds all the pathnames matching a specified pattern.\n",
    "    # In this case, it finds a file with the given format and assigns the path to `mhd_path`.\n",
    "    mhd_path = glob.glob('E:/LUNA/Luna_Data/subset*/{}.mhd'.format(key))\n",
    "    # print(mhd_path)\n",
    "    \n",
    "    # Read the medical image from the specified path using SimpleITK.\n",
    "    ct_mhd = sitk.ReadImage(mhd_path)\n",
    "    # print(ct_mhd)\n",
    "    if ct_mhd.GetDimension()==4 and ct_mhd.GetSize()[3]==1:\n",
    "        ct_mhd = ct_mhd[...,0]\n",
    "    # Convert the SimpleITK image to a NumPy array.\n",
    "    hu_a = np.array(sitk.GetArrayFromImage(ct_mhd), dtype=np.float32)\n",
    "    # print('hu_a',hu_a)\n",
    "    \n",
    "    # # Get the origin (starting point) of the image in XYZ coordinates.\n",
    "    origin_xyz = XyzTuple(*ct_mhd.GetOrigin())\n",
    "\n",
    "    # # # Get the voxel size in each dimension (X, Y, Z) from the image spacing.\n",
    "    vxSize_xyz = XyzTuple(*ct_mhd.GetSpacing())\n",
    "\n",
    "    # # # Get the direction matrix that defines the image orientation.\n",
    "    direction_a = np.array(ct_mhd.GetDirection()).reshape(3, 3)\n",
    "\n",
    "    # add for loop right here\n",
    "    # converts XYZ coordinates to IRC (Index, Row, Column) coordinates.\n",
    "    for i in range(len(result_dict[key])):\n",
    "        center_xyz = result_dict[key][i]\n",
    "        # print('i =', i)\n",
    "        # print(center_xyz)\n",
    "        \n",
    "        # Find the true or false of the patient's nodule\n",
    "        boolean = new_df.loc[new_df['coordX'] == center_xyz[0], 'mal_bool'].values[0]\n",
    "        boolean_list.append(boolean)\n",
    "        uid_list.append(key)\n",
    "        nob_list.append(i)\n",
    "        # print('boolean =', boolean)\n",
    "        # print('===========')\n",
    "        center_irc = xyz2irc(center_xyz, origin_xyz, vxSize_xyz, direction_a)\n",
    "        \n",
    "        # Print the calculated `center_irc`.\n",
    "        # print(center_irc)\n",
    "        # index, row, column\n",
    "        index = center_irc[0]\n",
    "        row = center_irc[1]\n",
    "        col = center_irc[2]\n",
    "        # print('original index =', index)\n",
    "        \n",
    "        # print(hu_a[index].shape)\n",
    "        # print('index=', hu_a[index])\n",
    "        final_list.append(hu_a[index])\n",
    "        \n",
    "    if ((len(final_list)) > 100):\n",
    "        print(len(final_list))\n",
    "        stack_list = np.stack(final_list)\n",
    "        result = segment(stack_list)\n",
    "        print(stack_list.shape)\n",
    "        for j in range(0, len(final_list)):\n",
    "            np2Png(result[j].astype(float), \"./yolo/segmented/{}_{}_{}_{}.png\".format(j + counter, boolean_list[j], nob_list[j], uid_list[j]))\n",
    "        counter += len(final_list)\n",
    "        final_list = []\n",
    "        boolean_list = []\n",
    "        nob_list = []\n",
    "        uid_list = []\n",
    "        \n",
    "        # Calculate the minimum and maximum values in the 78th slice of the CT image.\n",
    "        # min_value = np.min(hu_a[index])\n",
    "        # max_value = np.max(hu_a[index])\n",
    "        # print('min =', min_value)\n",
    "        # print('max =', max_value)\n",
    "\n",
    "        # # Scale the pixel values of the 78th slice to the range [0, 255].\n",
    "        # scaled_hu_a = (hu_a[index] - min_value) / (max_value - min_value) * 255\n",
    "\n",
    "        # # Convert the scaled array to an integer data type (uint8).\n",
    "        # scaled_hu_a = scaled_hu_a.astype(np.uint8)\n",
    "        # print('scaled_hu_a =', scaled_hu_a)\n",
    "        \n",
    "        # # # 組合文件名，使用format方法將key和i插入文件名中\n",
    "        # # filename = \"./origin_data/marked_{}_{}_{}.png\".format(boolean, key, i)\n",
    "        # filename = \"origin_{}_{}_{}.png\".format(key, i, boolean)\n",
    "        # slice_image = Image.fromarray(scaled_hu_a, mode='L')\n",
    "        # # # 保存圖片，文件名使用組合的filename\n",
    "        # slice_image.save(filename)\n",
    "\n",
    "        # # =================================================\n",
    "        \n",
    "        # # add mark\n",
    "        # # Create a drawing context on the image\n",
    "        # draw = ImageDraw.Draw(slice_image)\n",
    "\n",
    "        # # Define the coordinates to mark (row 212, column 45) as a red rectangle\n",
    "        # x1, y1, x2, y2 = col-10, row-10, col+10, row+10  # Adjust these coordinates as needed\n",
    "        # # print(x1, x2, y1, y2)\n",
    "        # # Define the outline color\n",
    "        # outline_color = (0, 0, 255)  \n",
    "\n",
    "        # # Draw a white rectangle on the image to mark the specific row and column\n",
    "        # draw.rectangle([x1, y1, x2, y2], outline=\"white\", width=1)  # Increase width for better visibility\n",
    "\n",
    "        # # Save the marked slice as a PNG\n",
    "        # mark_filename = \"marked_{}_{}_{}.png\".format(key, i, boolean)\n",
    "        # # 保存圖片，文件名使用組合的filename\n",
    "        # slice_image.save(mark_filename)\n",
    "        # # print('=============')"
   ]
  },
  {
   "cell_type": "code",
   "execution_count": 15,
   "metadata": {},
   "outputs": [],
   "source": [
    "# uid_list"
   ]
  },
  {
   "cell_type": "code",
   "execution_count": 16,
   "metadata": {},
   "outputs": [],
   "source": [
    "# nob_list"
   ]
  },
  {
   "cell_type": "code",
   "execution_count": 17,
   "metadata": {},
   "outputs": [],
   "source": [
    "# boolean_list"
   ]
  },
  {
   "cell_type": "code",
   "execution_count": 25,
   "metadata": {},
   "outputs": [
    {
     "name": "stdout",
     "output_type": "stream",
     "text": [
      "53\n"
     ]
    }
   ],
   "source": [
    "print(len(final_list))"
   ]
  },
  {
   "cell_type": "code",
   "execution_count": 18,
   "metadata": {},
   "outputs": [],
   "source": [
    "# print(stack_list)"
   ]
  },
  {
   "cell_type": "code",
   "execution_count": 19,
   "metadata": {},
   "outputs": [],
   "source": [
    "from segmentation import segment"
   ]
  },
  {
   "cell_type": "code",
   "execution_count": 26,
   "metadata": {},
   "outputs": [
    {
     "name": "stdout",
     "output_type": "stream",
     "text": [
      "(53, 512, 512)\n"
     ]
    }
   ],
   "source": [
    "stack_list = np.stack(final_list)\n",
    "result = segment(stack_list)\n",
    "print(result.shape)"
   ]
  },
  {
   "cell_type": "code",
   "execution_count": 27,
   "metadata": {},
   "outputs": [
    {
     "name": "stdout",
     "output_type": "stream",
     "text": [
      "1129\n"
     ]
    }
   ],
   "source": [
    "print(counter)"
   ]
  },
  {
   "cell_type": "code",
   "execution_count": 28,
   "metadata": {},
   "outputs": [],
   "source": [
    "for i in range(0, 53):\n",
    "    np2Png(result[i].astype(float), \"./yolo/segmented/{}_{}_{}_{}.png\".format(i + counter, boolean_list[i], nob_list[i], uid_list[i]))"
   ]
  },
  {
   "cell_type": "code",
   "execution_count": 30,
   "metadata": {},
   "outputs": [
    {
     "name": "stderr",
     "output_type": "stream",
     "text": [
      "Searching: 100%|███████████████████████████████████████████████████████████████████| 600/600 [2:02:12<00:00, 12.22s/it]\n"
     ]
    }
   ],
   "source": [
    "final_list = []\n",
    "counter = 0\n",
    "for key in tqdm(list(result_dict.keys()), desc=\"Searching\"):\n",
    "    # print(key, result_dict[key])\n",
    "    # Glob finds all the pathnames matching a specified pattern.\n",
    "    # In this case, it finds a file with the given format and assigns the path to `mhd_path`.\n",
    "    mhd_path = glob.glob('E:/LUNA/Luna_Data/subset*/{}.mhd'.format(key))\n",
    "    # print(mhd_path)\n",
    "    \n",
    "    # Read the medical image from the specified path using SimpleITK.\n",
    "    ct_mhd = sitk.ReadImage(mhd_path)\n",
    "    # print(ct_mhd)\n",
    "    if ct_mhd.GetDimension()==4 and ct_mhd.GetSize()[3]==1:\n",
    "        ct_mhd = ct_mhd[...,0]\n",
    "    # Convert the SimpleITK image to a NumPy array.\n",
    "    hu_a = np.array(sitk.GetArrayFromImage(ct_mhd), dtype=np.float32)\n",
    "    # print('hu_a',hu_a)\n",
    "    \n",
    "    # # Get the origin (starting point) of the image in XYZ coordinates.\n",
    "    origin_xyz = XyzTuple(*ct_mhd.GetOrigin())\n",
    "\n",
    "    # # # Get the voxel size in each dimension (X, Y, Z) from the image spacing.\n",
    "    vxSize_xyz = XyzTuple(*ct_mhd.GetSpacing())\n",
    "\n",
    "    # # # Get the direction matrix that defines the image orientation.\n",
    "    direction_a = np.array(ct_mhd.GetDirection()).reshape(3, 3)\n",
    "\n",
    "    # add for loop right here\n",
    "    # converts XYZ coordinates to IRC (Index, Row, Column) coordinates.\n",
    "    for i in range(len(result_dict[key])):\n",
    "        center_xyz = result_dict[key][i]\n",
    "        # print('i =', i)\n",
    "        # print(center_xyz)\n",
    "        \n",
    "        # Find the true or false of the patient's nodule\n",
    "        boolean = new_df.loc[new_df['coordX'] == center_xyz[0], 'mal_bool'].values[0]\n",
    "        # print('boolean =', boolean)\n",
    "        # print('===========')\n",
    "        center_irc = xyz2irc(center_xyz, origin_xyz, vxSize_xyz, direction_a)\n",
    "        \n",
    "        # Print the calculated `center_irc`.\n",
    "        # print(center_irc)\n",
    "        # index, row, column\n",
    "        index = center_irc[0]\n",
    "        row = center_irc[1]\n",
    "        col = center_irc[2]\n",
    "        # print('original index =', index)\n",
    "        \n",
    "        # print(hu_a[index].shape)\n",
    "        # print('index=', hu_a[index])\n",
    "        \n",
    "        # Calculate the minimum and maximum values in the 78th slice of the CT image.\n",
    "        min_value = np.min(hu_a[index])\n",
    "        max_value = np.max(hu_a[index])\n",
    "        # print('min =', min_value)\n",
    "        # print('max =', max_value)\n",
    "\n",
    "        # # Scale the pixel values of the 78th slice to the range [0, 255].\n",
    "        scaled_hu_a = (hu_a[index] - min_value) / (max_value - min_value) * 255\n",
    "\n",
    "        # # Convert the scaled array to an integer data type (uint8).\n",
    "        scaled_hu_a = scaled_hu_a.astype(np.uint8)\n",
    "        # print('scaled_hu_a =', scaled_hu_a)\n",
    "        \n",
    "        # # # 組合文件名，使用format方法將key和i插入文件名中\n",
    "        # filename = \"./origin_data/marked_{}_{}_{}.png\".format(boolean, key, i)\n",
    "        path = \"./yolo/origin/{}_{}_{}_{}.png\".format(counter, boolean, i, key)\n",
    "        slice_image = Image.fromarray(scaled_hu_a, mode='L')\n",
    "        # # 保存圖片，文件名使用組合的filename\n",
    "        slice_image.save(path)\n",
    "\n",
    "        # =================================================\n",
    "        \n",
    "        # add mark\n",
    "        # Create a drawing context on the image\n",
    "        draw = ImageDraw.Draw(slice_image)\n",
    "\n",
    "        # Define the coordinates to mark (row 212, column 45) as a red rectangle\n",
    "        x1, y1, x2, y2 = col-10, row-10, col+10, row+10  # Adjust these coordinates as needed\n",
    "        # print(x1, x2, y1, y2)\n",
    "        # Define the outline color\n",
    "        outline_color = (0, 0, 255)  \n",
    "\n",
    "        # Draw a white rectangle on the image to mark the specific row and column\n",
    "        draw.rectangle([x1, y1, x2, y2], outline=\"white\", width=1)  # Increase width for better visibility\n",
    "\n",
    "        # Save the marked slice as a PNG\n",
    "        marked_path = \"./yolo/marked/{}_{}_{}_{}.png\".format(counter, boolean, i, key)\n",
    "        # 保存圖片，文件名使用組合的filename\n",
    "        slice_image.save(marked_path)\n",
    "        counter += 1\n",
    "        # print('=============')"
   ]
  },
  {
   "cell_type": "code",
   "execution_count": 22,
   "metadata": {},
   "outputs": [],
   "source": [
    "# import os\n",
    "\n",
    "# origindir = \"E:\\\\LUNA\\\\yolo\\\\origin_data\"\n",
    "# targetdirs = [\"E:\\\\LUNA\\\\nodule_detection\\\\yolo\\\\nodule-detection-2\\\\train\\\\images\", \"E:\\\\LUNA\\\\nodule_detection\\\\yolo\\\\nodule-detection-2\\\\test\\\\images\", \"E:\\\\LUNA\\\\nodule_detection\\\\yolo\\\\nodule-detection-2\\\\valid\\\\images\"]\n",
    "\n",
    "# ori_files = os.listdir(origindir)\n",
    "\n",
    "# target_files = []\n",
    "# for targetdir in targetdirs:\n",
    "#     target_files.append(os.listdir(targetdir))\n",
    "\n",
    "# for file in ori_files:\n",
    "#     last_dot_index = file.rfind(\".\")\n",
    "#     prefix = \"\"\n",
    "#     if last_dot_index != -1:\n",
    "#         # Split the string into two parts: everything before the last dot and the file extension\n",
    "#         before_last_dot = file[:last_dot_index]\n",
    "#         file_extension = file[last_dot_index + 1:]\n",
    "\n",
    "#         # Replace the last dot with an underscore\n",
    "#         prefix = before_last_dot + \"_\" + file_extension\n",
    "#         prefix = prefix.replace(\".\", \"-\")\n",
    "#         print(prefix)\n",
    "#     for file in target_files[1]:\n",
    "#         if file.startswith(prefix):\n",
    "#             # You've found a file with the desired prefix\n",
    "#             print(f\"Found file with prefix '{prefix}': {file}\")"
   ]
  },
  {
   "cell_type": "code",
   "execution_count": 23,
   "metadata": {},
   "outputs": [],
   "source": [
    "# # Find the last dot (.) in the string\n",
    "# last_dot_index = input_string.rfind(\".\")\n",
    "\n",
    "# if last_dot_index != -1:\n",
    "#     # Split the string into two parts: everything before the last dot and the file extension\n",
    "#     before_last_dot = input_string[:last_dot_index]\n",
    "#     file_extension = input_string[last_dot_index + 1:]\n",
    "\n",
    "#     # Replace the last dot with an underscore\n",
    "#     modified_string = before_last_dot + \"_\" + file_extension\n",
    "\n",
    "#     print(modified_string)\n",
    "# else:\n",
    "#     # If there is no dot in the string, do something else or handle the case as needed\n",
    "#     print(\"No dot found in the input string\")"
   ]
  }
 ],
 "metadata": {
  "kernelspec": {
   "display_name": "Python 3 (ipykernel)",
   "language": "python",
   "name": "python3"
  },
  "language_info": {
   "codemirror_mode": {
    "name": "ipython",
    "version": 3
   },
   "file_extension": ".py",
   "mimetype": "text/x-python",
   "name": "python",
   "nbconvert_exporter": "python",
   "pygments_lexer": "ipython3",
   "version": "3.11.5"
  }
 },
 "nbformat": 4,
 "nbformat_minor": 4
}
