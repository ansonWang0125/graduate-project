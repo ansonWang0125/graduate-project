{
 "cells": [
  {
   "cell_type": "code",
   "execution_count": 3,
   "id": "dab74cfe-d94a-4fbc-b069-fb84b50b01a1",
   "metadata": {
    "tags": []
   },
   "outputs": [],
   "source": [
    "from segmentation import segment, init_segment_model\n",
    "from augmentation import augment, init_augment_model\n",
    "import SimpleITK as sitk\n",
    "import os\n",
    "import csv\n",
    "import numpy as np\n",
    "from util import XyzTuple, xyz2irc, logging, getCache\n",
    "import collections\n",
    "from collections import namedtuple  \n",
    "import glob\n",
    "from pylidc_func import masks_build\n",
    "from make_mask import aug_mask\n",
    "import torch\n",
    "from skimage import measure, filters\n",
    "import scipy.ndimage.morphology"
   ]
  },
  {
   "cell_type": "code",
   "execution_count": 4,
   "id": "9f133a67-7b69-406c-be40-7d7af2dc7203",
   "metadata": {
    "tags": []
   },
   "outputs": [],
   "source": [
    "def threshold_mask(raw_output, threshold):\n",
    "    if threshold == 0:\n",
    "        try:\n",
    "            threshold = filters.threshold_otsu(raw_output)\n",
    "        except:\n",
    "            threshold = 0.5\n",
    "\n",
    "    # print('\\tThreshold: {}'.format(threshold))\n",
    "\n",
    "    raw_output[raw_output > threshold] = 1\n",
    "    raw_output[raw_output < 1] = 0\n",
    "\n",
    "    all_labels = measure.label(raw_output)\n",
    "    props = measure.regionprops(all_labels)\n",
    "    props.sort(key=lambda x: x.area, reverse=True)\n",
    "    thresholded_mask = np.zeros(raw_output.shape)\n",
    "\n",
    "    if len(props) >= 2:\n",
    "        if props[0].area / props[1].area > 5:  # if the largest is way larger than the second largest\n",
    "            thresholded_mask[all_labels == props[0].label] = 1  # only turn on the largest component\n",
    "        else:\n",
    "            thresholded_mask[all_labels == props[0].label] = 1  # turn on two largest components\n",
    "            thresholded_mask[all_labels == props[1].label] = 1\n",
    "    elif len(props):\n",
    "        thresholded_mask[all_labels == props[0].label] = 1\n",
    "\n",
    "    thresholded_mask = scipy.ndimage.morphology.binary_fill_holes(thresholded_mask).astype(np.uint8)\n",
    "\n",
    "    return thresholded_mask"
   ]
  },
  {
   "cell_type": "code",
   "execution_count": 11,
   "id": "8121441d-adc7-4c1d-ac52-1636aba95e7d",
   "metadata": {
    "tags": []
   },
   "outputs": [],
   "source": [
    "uid = \"1.3.6.1.4.1.14519.5.2.1.6279.6001.105756658031515062000744821260\"\n",
    "# 1.3.6.1.4.1.14519.5.2.1.6279.6001.267957701183569638795986183786_179_qual_fig.png\n",
    "imagePath = \"D://LUNA//Luna16_AugSegData//subset0//1.3.6.1.4.1.14519.5.2.1.6279.6001.105756658031515062000744821260.mhd\"\n",
    "# mask_path = \"C://LUNA//udet//result//output//1.3.6.1.4.1.14519.5.2.1.6279.6001.675543413149938600000570588203_75.pth\"\n",
    "ct_mhd = sitk.ReadImage(imagePath)\n",
    "if ct_mhd.GetDimension()==4 and ct_mhd.GetSize()[3]==1:\n",
    "    ct_mhd = ct_mhd[...,0]\n",
    "origin = sitk.GetArrayFromImage(ct_mhd)\n",
    "# masks = masks_build(uid, origin)\n",
    "# loaded_data = torch.load(mask_path)\n",
    "# prediction_g = loaded_data['prediction_g'].squeeze(1)\n",
    "# mask = (torch.from_numpy(threshold_mask(prediction_g.cpu(), 0.5)).to(\"cuda\"))\n",
    "# augmented_mask = aug_mask(masks)"
   ]
  },
  {
   "cell_type": "code",
   "execution_count": 12,
   "id": "35f65ee3-893c-4992-99ca-3803f0b2c8d3",
   "metadata": {
    "tags": []
   },
   "outputs": [],
   "source": [
    "for i, image in enumerate(origin):\n",
    "    np2Png(image.astype(float), \"./lung/{}_{}.png\".format(i, uid))"
   ]
  },
  {
   "cell_type": "code",
   "execution_count": 6,
   "id": "cddb7ee5-8893-4066-a142-4001a9125621",
   "metadata": {
    "tags": []
   },
   "outputs": [
    {
     "name": "stderr",
     "output_type": "stream",
     "text": [
      "C:\\Users\\oplab\\AppData\\Local\\Temp\\ipykernel_18332\\2846807596.py:27: DeprecationWarning: Please use `binary_fill_holes` from the `scipy.ndimage` namespace, the `scipy.ndimage.morphology` namespace is deprecated.\n",
      "  thresholded_mask = scipy.ndimage.morphology.binary_fill_holes(thresholded_mask).astype(np.uint8)\n"
     ]
    }
   ],
   "source": [
    "uid = \"1.3.6.1.4.1.14519.5.2.1.6279.6001.675543413149938600000570588203\"\n",
    "# 1.3.6.1.4.1.14519.5.2.1.6279.6001.267957701183569638795986183786_179_qual_fig.png\n",
    "imagePath = \"D://LUNA//Luna16_SegData//subset8//1.3.6.1.4.1.14519.5.2.1.6279.6001.675543413149938600000570588203.mhd\"\n",
    "mask_path = \"C://LUNA//udet//result//output//1.3.6.1.4.1.14519.5.2.1.6279.6001.675543413149938600000570588203_75.pth\"\n",
    "ct_mhd = sitk.ReadImage(imagePath)\n",
    "if ct_mhd.GetDimension()==4 and ct_mhd.GetSize()[3]==1:\n",
    "    ct_mhd = ct_mhd[...,0]\n",
    "origin = sitk.GetArrayFromImage(ct_mhd)\n",
    "# masks = masks_build(uid, origin)\n",
    "loaded_data = torch.load(mask_path)\n",
    "prediction_g = loaded_data['prediction_g'].squeeze(1)\n",
    "mask = (torch.from_numpy(threshold_mask(prediction_g.cpu(), 0.5)).to(\"cuda\"))\n",
    "# augmented_mask = aug_mask(masks)"
   ]
  },
  {
   "cell_type": "code",
   "execution_count": 10,
   "id": "875f48dd-dc26-4dc1-a7ea-ac5a06a92bc9",
   "metadata": {
    "tags": []
   },
   "outputs": [
    {
     "name": "stderr",
     "output_type": "stream",
     "text": [
      "C:\\Users\\oplab\\AppData\\Local\\Temp\\ipykernel_18332\\2846807596.py:27: DeprecationWarning: Please use `binary_fill_holes` from the `scipy.ndimage` namespace, the `scipy.ndimage.morphology` namespace is deprecated.\n",
      "  thresholded_mask = scipy.ndimage.morphology.binary_fill_holes(thresholded_mask).astype(np.uint8)\n"
     ]
    }
   ],
   "source": [
    "uid = \"1.3.6.1.4.1.14519.5.2.1.6279.6001.267957701183569638795986183786\"\n",
    "# 1.3.6.1.4.1.14519.5.2.1.6279.6001.267957701183569638795986183786_179_qual_fig.png\n",
    "imagePath = \"D://LUNA//Luna16_SegData//subset2//1.3.6.1.4.1.14519.5.2.1.6279.6001.267957701183569638795986183786.mhd\"\n",
    "mask_path = \"C://LUNA//udet//result//output//1.3.6.1.4.1.14519.5.2.1.6279.6001.267957701183569638795986183786_179.pth\"\n",
    "ct_mhd = sitk.ReadImage(imagePath)\n",
    "if ct_mhd.GetDimension()==4 and ct_mhd.GetSize()[3]==1:\n",
    "    ct_mhd = ct_mhd[...,0]\n",
    "origin = sitk.GetArrayFromImage(ct_mhd)\n",
    "# masks = masks_build(uid, origin)\n",
    "loaded_data = torch.load(mask_path)\n",
    "prediction_g = loaded_data['prediction_g'].squeeze(1)\n",
    "mask = (torch.from_numpy(threshold_mask(prediction_g.cpu(), 0.5)).to(\"cuda\"))\n",
    "# augmented_mask = aug_mask(masks)"
   ]
  },
  {
   "cell_type": "code",
   "execution_count": 7,
   "id": "2d1fd30b-1b29-40bd-b1b0-6b1fc9e3eb4b",
   "metadata": {
    "tags": []
   },
   "outputs": [],
   "source": [
    "from PIL import Image, ImageDraw\n",
    "def np2Png(np_arr, target_path):\n",
    "    min_value = np.min(np_arr)\n",
    "    max_value = np.max(np_arr)\n",
    "    # d = 4000 if max_value != 1 else 1\n",
    "    d = max_value - min_value\n",
    "    scaled_np_arr = (np_arr - min_value) / (d) * 255\n",
    "    scaled_np_arr = scaled_np_arr.astype(np.uint8)\n",
    "    slices = Image.fromarray(scaled_np_arr, mode='L')\n",
    "    slices.save(target_path)"
   ]
  },
  {
   "cell_type": "code",
   "execution_count": 16,
   "id": "56de724d-1dcd-4922-b7f4-a497c71be5e6",
   "metadata": {
    "tags": []
   },
   "outputs": [
    {
     "data": {
      "text/plain": [
       "torch.Size([1, 512, 512])"
      ]
     },
     "execution_count": 16,
     "metadata": {},
     "output_type": "execute_result"
    }
   ],
   "source": [
    "mask.size()"
   ]
  },
  {
   "cell_type": "code",
   "execution_count": 9,
   "id": "5cc93905-b55c-41a0-92c4-c589ef5f15f0",
   "metadata": {
    "tags": []
   },
   "outputs": [],
   "source": [
    "np2Png(mask[0].cpu().numpy().astype(float), \"./mask/demo/mask1.png\")\n",
    "np2Png(origin[75], \"./mask/demo/origin1.png\")\n",
    "ori_mask = np.where(mask[0].cpu().numpy(), origin[75], 1000)\n",
    "np2Png(ori_mask, \"./mask/demo/ori_mask1.png\")"
   ]
  },
  {
   "cell_type": "code",
   "execution_count": 11,
   "id": "499e163b-0d99-47d8-8441-93cadcf7dfa2",
   "metadata": {
    "tags": []
   },
   "outputs": [],
   "source": [
    "np2Png(mask[0].cpu().numpy().astype(float), \"./mask/demo/mask2.png\")\n",
    "np2Png(origin[179], \"./mask/demo/origin2.png\")\n",
    "ori_mask = np.where(mask[0].cpu().numpy(), origin[179], 1000)\n",
    "np2Png(ori_mask, \"./mask/demo/ori_mask2.png\")"
   ]
  },
  {
   "cell_type": "code",
   "execution_count": 25,
   "id": "266bd19c-62cd-4aa5-b49e-5b4ac06d92c2",
   "metadata": {
    "tags": []
   },
   "outputs": [
    {
     "data": {
      "text/plain": [
       "array([[2.7818473e-07, 5.2934048e-08, 3.6602476e-08, ..., 4.6312248e-08,\n",
       "        6.0776529e-08, 7.1300400e-07],\n",
       "       [3.1144033e-08, 2.8228462e-09, 1.4234803e-09, ..., 2.0339335e-09,\n",
       "        4.2193427e-09, 1.2466751e-07],\n",
       "       [1.6372388e-08, 1.3398861e-09, 5.4652544e-10, ..., 4.6388760e-10,\n",
       "        1.9923467e-09, 1.0676341e-07],\n",
       "       ...,\n",
       "       [4.4270166e-08, 4.5827093e-09, 2.1230437e-09, ..., 1.2686754e-09,\n",
       "        4.6175774e-09, 1.2856430e-07],\n",
       "       [6.6431156e-08, 7.0193629e-09, 4.5756963e-09, ..., 4.2060204e-09,\n",
       "        5.5903180e-09, 5.6670697e-08],\n",
       "       [5.0730830e-07, 9.9064856e-08, 6.2594765e-08, ..., 1.0992514e-07,\n",
       "        4.6424041e-08, 3.9948949e-07]], dtype=float32)"
      ]
     },
     "execution_count": 25,
     "metadata": {},
     "output_type": "execute_result"
    }
   ],
   "source": [
    "mask[0].cpu().numpy()"
   ]
  },
  {
   "cell_type": "code",
   "execution_count": 2,
   "id": "d12ed7a2-3863-443e-acb2-8b044fe35274",
   "metadata": {
    "tags": []
   },
   "outputs": [],
   "source": [
    "CandidateInfoTuple = namedtuple('CandidateInfoTuple', 'isNodule_bool, hasAnnotation_bool, isMal_bool, diameter_mm, series_uid, center_xyz')\n",
    "def getCandidateInfoList(requireOnDisk_bool=True):\n",
    "    # We construct a set with all series_uids that are present on disk.\n",
    "    # This will let us use the data, even if we haven't downloaded all of\n",
    "    # the subsets yet.\n",
    "    mhd_list = glob.glob('C:/Users/oplab/Desktop/Luna16_data/Luna16_img/subset*/*.mhd')\n",
    "    presentOnDisk_set = {os.path.split(p)[-1][:-4] for p in mhd_list}\n",
    "\n",
    "    candidateInfo_list = []\n",
    "    with open('C:/Users/oplab/Desktop/Luna16_data/annotations_with_malignancy.csv', \"r\") as f:\n",
    "        for row in list(csv.reader(f))[1:]:\n",
    "            series_uid = row[0]\n",
    "            annotationCenter_xyz = tuple([float(x) for x in row[1:4]])\n",
    "            annotationDiameter_mm = float(row[4])\n",
    "            isMal_bool = {'False': False, 'True': True}[row[5]] #it record the malignancy or not\n",
    "\n",
    "            if series_uid not in presentOnDisk_set and requireOnDisk_bool:\n",
    "                continue\n",
    "\n",
    "            candidateInfo_list.append(\n",
    "                CandidateInfoTuple(\n",
    "                    True,\n",
    "                    True,\n",
    "                    isMal_bool,\n",
    "                    annotationDiameter_mm,\n",
    "                    series_uid,\n",
    "                    annotationCenter_xyz,\n",
    "                )\n",
    "            )\n",
    "\n",
    "    with open('C:/Users/oplab/Desktop/Luna16_data/candidates_V2.csv', \"r\") as f:\n",
    "        for row in list(csv.reader(f))[1:]:\n",
    "            series_uid = row[0]\n",
    "\n",
    "            if series_uid not in presentOnDisk_set and requireOnDisk_bool:\n",
    "                continue\n",
    "\n",
    "            isNodule_bool = bool(int(row[4]))\n",
    "            candidateCenter_xyz = tuple([float(x) for x in row[1:4]])\n",
    "\n",
    "            if not isNodule_bool:\n",
    "                candidateInfo_list.append(\n",
    "                    CandidateInfoTuple(\n",
    "                        False,\n",
    "                        False,\n",
    "                        False,\n",
    "                        0.0,\n",
    "                        series_uid,\n",
    "                        candidateCenter_xyz,\n",
    "                    )\n",
    "                )\n",
    "\n",
    "    candidateInfo_list.sort(reverse=True)\n",
    "    return candidateInfo_list"
   ]
  },
  {
   "cell_type": "code",
   "execution_count": 3,
   "id": "dd47bc7f-9d6c-43e4-806a-cc0126e156ef",
   "metadata": {
    "tags": []
   },
   "outputs": [],
   "source": [
    "def getCandidateInfoDict(requireOnDisk_bool=True):  #把candidateInfoList包成Dict\n",
    "    candidateInfo_list = getCandidateInfoList(requireOnDisk_bool)\n",
    "    candidateInfo_dict = {}\n",
    "\n",
    "    for candidateInfo_tup in candidateInfo_list:\n",
    "        candidateInfo_dict.setdefault(candidateInfo_tup.series_uid,\n",
    "                                      []).append(candidateInfo_tup)\n",
    "\n",
    "    return candidateInfo_dict"
   ]
  },
  {
   "cell_type": "code",
   "execution_count": 4,
   "id": "0caacb3b-ae84-401c-9da5-02daff58df7a",
   "metadata": {
    "tags": []
   },
   "outputs": [],
   "source": [
    "# candidate_dict =  getCandidateInfoDict()"
   ]
  },
  {
   "cell_type": "code",
   "execution_count": 5,
   "id": "08ea7834-ed6e-4b1f-85ce-aa2c16ab8cf9",
   "metadata": {
    "tags": []
   },
   "outputs": [],
   "source": [
    "# write_root = \"D://LUNA//Luna16_AugData\"\n",
    "# if not os.path.exists(write_root):\n",
    "#     os.mkdir(\"D://LUNA//Luna16_AugData\")\n",
    "    \n",
    "# append = True\n",
    "# # split to train test\n",
    "# for sub_root in os.listdir(\"C://Users//oplab//Desktop//Luna16_data//Luna16_img//\"):\n",
    "#     root = os.path.join(\"E:\\LUNA\\Luna_Data\", sub_root)\n",
    "#     print(root)\n",
    "#     for path in os.listdir(root):\n",
    "#         break\n",
    "#         # npy_path = glob.glob('./augmented_segmented/{}.npy'.format(series_uid))\n",
    "#         npy_path = glob.glob(os.path.join(write_root, sub_root, path) + ''.format(series_uid))\n",
    "#         if (npy_path != [] and append):\n",
    "#             print(\"pass\")\n",
    "#             continue\n",
    "#         mhd_path = glob.glob('C:/Users/oplab/Desktop/Luna16_data/Luna16_img/subset*/{}.mhd'.format(series_uid))\n",
    "#         ct_mhd = sitk.ReadImage(mhd_path)\n",
    "#         if ct_mhd.GetDimension()==4 and ct_mhd.GetSize()[3]==1:\n",
    "#             ct_mhd = ct_mhd[...,0]\n",
    "#         origin = sitk.GetArrayFromImage(ct_mhd)\n",
    "#         print(mhd_path)\n",
    "#         augmented = augment(origin)\n",
    "#         # segmented = segment(augmented)\n",
    "#         # hu_a = np.array(segmented, dtype=np.float32)\n",
    "#         hu_a = np.array(augmented, dtype=np.float32)\n",
    "#         # np.save(\"./augmented/{}.npy\".format(series_uid), hu_a)\n",
    "#         # np.save(\"./augmented_segmented/{}.npy\".format(series_uid), hu_a)\n",
    "#         # Load or create a SimpleITK image\n",
    "#         current_origin = ct_mhd.GetOrigin()\n",
    "#         current_spacing = ct_mhd.GetSpacing()\n",
    "\n",
    "#         sitk_image = sitk.GetImageFromArray(augmented)\n",
    "#         # image_short = sitk.Cast(image, sitk.sitkInt16)\n",
    "\n",
    "#         # Set the image origin, spacing, and direction (modify as needed)\n",
    "#         sitk_image.SetOrigin((current_origin[0], current_origin[1], current_origin[2]))\n",
    "#         sitk_image.SetSpacing((current_spacing[0], current_spacing[1], current_spacing[2] / 2))\n",
    "\n",
    "#         # Save the image as a MetaImage file\n",
    "#         if not os.path.exists(os.path.join(write_root, sub_root)):\n",
    "#             os.mkdir(os.path.join(write_root, sub_root))\n",
    "#         sitk.WriteImage(sitk_image, os.path.join(write_root, sub_root, path)) "
   ]
  },
  {
   "cell_type": "code",
   "execution_count": 6,
   "id": "bf0a2844-19ba-436f-9715-b39cd3ae9d64",
   "metadata": {
    "tags": []
   },
   "outputs": [],
   "source": [
    "# npy_path = glob.glob(os.path.join(write_root, sub_root, path) + ''.format(series_uid))"
   ]
  },
  {
   "cell_type": "code",
   "execution_count": 7,
   "id": "5e9c1056-f779-4f9e-94ad-b19b5299a0c2",
   "metadata": {
    "tags": []
   },
   "outputs": [],
   "source": [
    "model_best, device = init_augment_model()\n",
    "model, device = init_segment_model()"
   ]
  },
  {
   "cell_type": "code",
   "execution_count": null,
   "id": "b4ce28e2-9529-408a-97f1-49cc0843c354",
   "metadata": {
    "tags": []
   },
   "outputs": [
    {
     "name": "stdout",
     "output_type": "stream",
     "text": [
      "D:\\LUNA\\Luna16_AugData\\subset0\n",
      "pass\n",
      "pass\n",
      "pass\n",
      "pass\n",
      "pass\n",
      "pass\n",
      "pass\n",
      "pass\n",
      "pass\n",
      "pass\n",
      "pass\n",
      "pass\n",
      "pass\n",
      "pass\n",
      "pass\n",
      "pass\n",
      "pass\n",
      "pass\n",
      "pass\n",
      "pass\n",
      "pass\n",
      "pass\n",
      "pass\n",
      "pass\n",
      "pass\n",
      "pass\n",
      "pass\n",
      "pass\n",
      "pass\n",
      "pass\n",
      "pass\n",
      "pass\n",
      "pass\n",
      "pass\n",
      "pass\n",
      "pass\n",
      "pass\n",
      "pass\n",
      "pass\n",
      "pass\n",
      "pass\n",
      "pass\n",
      "pass\n",
      "pass\n",
      "pass\n",
      "pass\n",
      "pass\n",
      "pass\n",
      "pass\n",
      "pass\n",
      "pass\n",
      "pass\n",
      "pass\n",
      "pass\n",
      "pass\n",
      "pass\n",
      "pass\n",
      "pass\n",
      "pass\n",
      "pass\n",
      "pass\n",
      "pass\n",
      "pass\n",
      "pass\n",
      "pass\n",
      "pass\n",
      "pass\n",
      "pass\n",
      "pass\n",
      "pass\n",
      "pass\n",
      "pass\n",
      "pass\n",
      "pass\n",
      "pass\n",
      "pass\n",
      "1.3.6.1.4.1.14519.5.2.1.6279.6001.640729228179368154416184318668.mhd\n",
      "D:\\LUNA\\Luna16_SegData\\subset0\\1.3.6.1.4.1.14519.5.2.1.6279.6001.640729228179368154416184318668.mhd\n",
      "1.3.6.1.4.1.14519.5.2.1.6279.6001.657775098760536289051744981056.mhd\n",
      "D:\\LUNA\\Luna16_SegData\\subset0\\1.3.6.1.4.1.14519.5.2.1.6279.6001.657775098760536289051744981056.mhd\n",
      "1.3.6.1.4.1.14519.5.2.1.6279.6001.716498695101447665580610403574.mhd\n",
      "D:\\LUNA\\Luna16_SegData\\subset0\\1.3.6.1.4.1.14519.5.2.1.6279.6001.716498695101447665580610403574.mhd\n",
      "1.3.6.1.4.1.14519.5.2.1.6279.6001.724251104254976962355686318345.mhd\n",
      "D:\\LUNA\\Luna16_SegData\\subset0\\1.3.6.1.4.1.14519.5.2.1.6279.6001.724251104254976962355686318345.mhd\n",
      "1.3.6.1.4.1.14519.5.2.1.6279.6001.752756872840730509471096155114.mhd\n",
      "D:\\LUNA\\Luna16_SegData\\subset0\\1.3.6.1.4.1.14519.5.2.1.6279.6001.752756872840730509471096155114.mhd\n",
      "1.3.6.1.4.1.14519.5.2.1.6279.6001.805925269324902055566754756843.mhd\n",
      "D:\\LUNA\\Luna16_SegData\\subset0\\1.3.6.1.4.1.14519.5.2.1.6279.6001.805925269324902055566754756843.mhd\n",
      "1.3.6.1.4.1.14519.5.2.1.6279.6001.826812708000318290301835871780.mhd\n",
      "D:\\LUNA\\Luna16_SegData\\subset0\\1.3.6.1.4.1.14519.5.2.1.6279.6001.826812708000318290301835871780.mhd\n",
      "1.3.6.1.4.1.14519.5.2.1.6279.6001.832260670372728970918746541371.mhd\n",
      "D:\\LUNA\\Luna16_SegData\\subset0\\1.3.6.1.4.1.14519.5.2.1.6279.6001.832260670372728970918746541371.mhd\n",
      "1.3.6.1.4.1.14519.5.2.1.6279.6001.868211851413924881662621747734.mhd\n",
      "D:\\LUNA\\Luna16_SegData\\subset0\\1.3.6.1.4.1.14519.5.2.1.6279.6001.868211851413924881662621747734.mhd\n",
      "1.3.6.1.4.1.14519.5.2.1.6279.6001.898642529028521482602829374444.mhd\n",
      "D:\\LUNA\\Luna16_SegData\\subset0\\1.3.6.1.4.1.14519.5.2.1.6279.6001.898642529028521482602829374444.mhd\n",
      "1.3.6.1.4.1.14519.5.2.1.6279.6001.905371958588660410240398317235.mhd\n",
      "D:\\LUNA\\Luna16_SegData\\subset0\\1.3.6.1.4.1.14519.5.2.1.6279.6001.905371958588660410240398317235.mhd\n",
      "1.3.6.1.4.1.14519.5.2.1.6279.6001.975254950136384517744116790879.mhd\n",
      "D:\\LUNA\\Luna16_SegData\\subset0\\1.3.6.1.4.1.14519.5.2.1.6279.6001.975254950136384517744116790879.mhd\n",
      "1.3.6.1.4.1.14519.5.2.1.6279.6001.979083010707182900091062408058.mhd\n",
      "D:\\LUNA\\Luna16_SegData\\subset0\\1.3.6.1.4.1.14519.5.2.1.6279.6001.979083010707182900091062408058.mhd\n",
      "D:\\LUNA\\Luna16_AugData\\subset1\n",
      "1.3.6.1.4.1.14519.5.2.1.6279.6001.100684836163890911914061745866.mhd\n",
      "D:\\LUNA\\Luna16_SegData\\subset1\\1.3.6.1.4.1.14519.5.2.1.6279.6001.100684836163890911914061745866.mhd\n",
      "1.3.6.1.4.1.14519.5.2.1.6279.6001.104562737760173137525888934217.mhd\n",
      "D:\\LUNA\\Luna16_SegData\\subset1\\1.3.6.1.4.1.14519.5.2.1.6279.6001.104562737760173137525888934217.mhd\n",
      "1.3.6.1.4.1.14519.5.2.1.6279.6001.106719103982792863757268101375.mhd\n",
      "D:\\LUNA\\Luna16_SegData\\subset1\\1.3.6.1.4.1.14519.5.2.1.6279.6001.106719103982792863757268101375.mhd\n",
      "1.3.6.1.4.1.14519.5.2.1.6279.6001.108231420525711026834210228428.mhd\n",
      "D:\\LUNA\\Luna16_SegData\\subset1\\1.3.6.1.4.1.14519.5.2.1.6279.6001.108231420525711026834210228428.mhd\n",
      "1.3.6.1.4.1.14519.5.2.1.6279.6001.111017101339429664883879536171.mhd\n",
      "D:\\LUNA\\Luna16_SegData\\subset1\\1.3.6.1.4.1.14519.5.2.1.6279.6001.111017101339429664883879536171.mhd\n",
      "1.3.6.1.4.1.14519.5.2.1.6279.6001.113697708991260454310623082679.mhd\n",
      "D:\\LUNA\\Luna16_SegData\\subset1\\1.3.6.1.4.1.14519.5.2.1.6279.6001.113697708991260454310623082679.mhd\n",
      "1.3.6.1.4.1.14519.5.2.1.6279.6001.114218724025049818743426522343.mhd\n",
      "D:\\LUNA\\Luna16_SegData\\subset1\\1.3.6.1.4.1.14519.5.2.1.6279.6001.114218724025049818743426522343.mhd\n",
      "1.3.6.1.4.1.14519.5.2.1.6279.6001.121824995088859376862458155637.mhd\n",
      "D:\\LUNA\\Luna16_SegData\\subset1\\1.3.6.1.4.1.14519.5.2.1.6279.6001.121824995088859376862458155637.mhd\n",
      "1.3.6.1.4.1.14519.5.2.1.6279.6001.128059192202504367870633619224.mhd\n",
      "D:\\LUNA\\Luna16_SegData\\subset1\\1.3.6.1.4.1.14519.5.2.1.6279.6001.128059192202504367870633619224.mhd\n",
      "1.3.6.1.4.1.14519.5.2.1.6279.6001.128881800399702510818644205032.mhd\n",
      "D:\\LUNA\\Luna16_SegData\\subset1\\1.3.6.1.4.1.14519.5.2.1.6279.6001.128881800399702510818644205032.mhd\n",
      "1.3.6.1.4.1.14519.5.2.1.6279.6001.134370886216012873213579659366.mhd\n",
      "D:\\LUNA\\Luna16_SegData\\subset1\\1.3.6.1.4.1.14519.5.2.1.6279.6001.134370886216012873213579659366.mhd\n",
      "1.3.6.1.4.1.14519.5.2.1.6279.6001.139595277234735528205899724196.mhd\n",
      "D:\\LUNA\\Luna16_SegData\\subset1\\1.3.6.1.4.1.14519.5.2.1.6279.6001.139595277234735528205899724196.mhd\n",
      "1.3.6.1.4.1.14519.5.2.1.6279.6001.140527383975300992150799777603.mhd\n",
      "D:\\LUNA\\Luna16_SegData\\subset1\\1.3.6.1.4.1.14519.5.2.1.6279.6001.140527383975300992150799777603.mhd\n",
      "1.3.6.1.4.1.14519.5.2.1.6279.6001.144943344795414353192059796098.mhd\n",
      "D:\\LUNA\\Luna16_SegData\\subset1\\1.3.6.1.4.1.14519.5.2.1.6279.6001.144943344795414353192059796098.mhd\n",
      "1.3.6.1.4.1.14519.5.2.1.6279.6001.145759169833745025756371695397.mhd\n",
      "D:\\LUNA\\Luna16_SegData\\subset1\\1.3.6.1.4.1.14519.5.2.1.6279.6001.145759169833745025756371695397.mhd\n",
      "1.3.6.1.4.1.14519.5.2.1.6279.6001.146603910507557786636779705509.mhd\n",
      "D:\\LUNA\\Luna16_SegData\\subset1\\1.3.6.1.4.1.14519.5.2.1.6279.6001.146603910507557786636779705509.mhd\n",
      "1.3.6.1.4.1.14519.5.2.1.6279.6001.152684536713461901635595118048.mhd\n",
      "D:\\LUNA\\Luna16_SegData\\subset1\\1.3.6.1.4.1.14519.5.2.1.6279.6001.152684536713461901635595118048.mhd\n",
      "1.3.6.1.4.1.14519.5.2.1.6279.6001.161002239822118346732951898613.mhd\n",
      "D:\\LUNA\\Luna16_SegData\\subset1\\1.3.6.1.4.1.14519.5.2.1.6279.6001.161002239822118346732951898613.mhd\n",
      "1.3.6.1.4.1.14519.5.2.1.6279.6001.161073793312426102774780216551.mhd\n",
      "D:\\LUNA\\Luna16_SegData\\subset1\\1.3.6.1.4.1.14519.5.2.1.6279.6001.161073793312426102774780216551.mhd\n",
      "1.3.6.1.4.1.14519.5.2.1.6279.6001.162207236104936931957809623059.mhd\n",
      "D:\\LUNA\\Luna16_SegData\\subset1\\1.3.6.1.4.1.14519.5.2.1.6279.6001.162207236104936931957809623059.mhd\n",
      "1.3.6.1.4.1.14519.5.2.1.6279.6001.162718361851587451505896742103.mhd\n",
      "D:\\LUNA\\Luna16_SegData\\subset1\\1.3.6.1.4.1.14519.5.2.1.6279.6001.162718361851587451505896742103.mhd\n",
      "1.3.6.1.4.1.14519.5.2.1.6279.6001.162901839201654862079549658100.mhd\n",
      "D:\\LUNA\\Luna16_SegData\\subset1\\1.3.6.1.4.1.14519.5.2.1.6279.6001.162901839201654862079549658100.mhd\n",
      "1.3.6.1.4.1.14519.5.2.1.6279.6001.163994693532965040247348251579.mhd\n",
      "D:\\LUNA\\Luna16_SegData\\subset1\\1.3.6.1.4.1.14519.5.2.1.6279.6001.163994693532965040247348251579.mhd\n",
      "1.3.6.1.4.1.14519.5.2.1.6279.6001.168037818448885856452592057286.mhd\n",
      "D:\\LUNA\\Luna16_SegData\\subset1\\1.3.6.1.4.1.14519.5.2.1.6279.6001.168037818448885856452592057286.mhd\n",
      "1.3.6.1.4.1.14519.5.2.1.6279.6001.168605638657404145360275453085.mhd\n",
      "D:\\LUNA\\Luna16_SegData\\subset1\\1.3.6.1.4.1.14519.5.2.1.6279.6001.168605638657404145360275453085.mhd\n",
      "1.3.6.1.4.1.14519.5.2.1.6279.6001.169128136262002764211589185953.mhd\n",
      "D:\\LUNA\\Luna16_SegData\\subset1\\1.3.6.1.4.1.14519.5.2.1.6279.6001.169128136262002764211589185953.mhd\n",
      "1.3.6.1.4.1.14519.5.2.1.6279.6001.171919524048654494439256263785.mhd\n",
      "D:\\LUNA\\Luna16_SegData\\subset1\\1.3.6.1.4.1.14519.5.2.1.6279.6001.171919524048654494439256263785.mhd\n",
      "1.3.6.1.4.1.14519.5.2.1.6279.6001.173106154739244262091404659845.mhd\n",
      "D:\\LUNA\\Luna16_SegData\\subset1\\1.3.6.1.4.1.14519.5.2.1.6279.6001.173106154739244262091404659845.mhd\n",
      "1.3.6.1.4.1.14519.5.2.1.6279.6001.179049373636438705059720603192.mhd\n",
      "D:\\LUNA\\Luna16_SegData\\subset1\\1.3.6.1.4.1.14519.5.2.1.6279.6001.179049373636438705059720603192.mhd\n",
      "1.3.6.1.4.1.14519.5.2.1.6279.6001.179162671133894061547290922949.mhd\n",
      "D:\\LUNA\\Luna16_SegData\\subset1\\1.3.6.1.4.1.14519.5.2.1.6279.6001.179162671133894061547290922949.mhd\n",
      "1.3.6.1.4.1.14519.5.2.1.6279.6001.183184435049555024219115904825.mhd\n",
      "D:\\LUNA\\Luna16_SegData\\subset1\\1.3.6.1.4.1.14519.5.2.1.6279.6001.183184435049555024219115904825.mhd\n",
      "1.3.6.1.4.1.14519.5.2.1.6279.6001.183843376225716802567192412456.mhd\n",
      "D:\\LUNA\\Luna16_SegData\\subset1\\1.3.6.1.4.1.14519.5.2.1.6279.6001.183843376225716802567192412456.mhd\n",
      "1.3.6.1.4.1.14519.5.2.1.6279.6001.184019785706727365023450012318.mhd\n",
      "D:\\LUNA\\Luna16_SegData\\subset1\\1.3.6.1.4.1.14519.5.2.1.6279.6001.184019785706727365023450012318.mhd\n",
      "1.3.6.1.4.1.14519.5.2.1.6279.6001.186021279664749879526003668137.mhd\n",
      "D:\\LUNA\\Luna16_SegData\\subset1\\1.3.6.1.4.1.14519.5.2.1.6279.6001.186021279664749879526003668137.mhd\n",
      "1.3.6.1.4.1.14519.5.2.1.6279.6001.193408384740507320589857096592.mhd\n",
      "D:\\LUNA\\Luna16_SegData\\subset1\\1.3.6.1.4.1.14519.5.2.1.6279.6001.193408384740507320589857096592.mhd\n",
      "1.3.6.1.4.1.14519.5.2.1.6279.6001.193808128386712859512130599234.mhd\n",
      "D:\\LUNA\\Luna16_SegData\\subset1\\1.3.6.1.4.1.14519.5.2.1.6279.6001.193808128386712859512130599234.mhd\n",
      "1.3.6.1.4.1.14519.5.2.1.6279.6001.197987940182806628828566429132.mhd\n",
      "D:\\LUNA\\Luna16_SegData\\subset1\\1.3.6.1.4.1.14519.5.2.1.6279.6001.197987940182806628828566429132.mhd\n",
      "1.3.6.1.4.1.14519.5.2.1.6279.6001.200558451375970945040979397866.mhd\n",
      "D:\\LUNA\\Luna16_SegData\\subset1\\1.3.6.1.4.1.14519.5.2.1.6279.6001.200558451375970945040979397866.mhd\n",
      "1.3.6.1.4.1.14519.5.2.1.6279.6001.206539885154775002929031534291.mhd\n",
      "D:\\LUNA\\Luna16_SegData\\subset1\\1.3.6.1.4.1.14519.5.2.1.6279.6001.206539885154775002929031534291.mhd\n",
      "1.3.6.1.4.1.14519.5.2.1.6279.6001.208737629504245244513001631764.mhd\n",
      "D:\\LUNA\\Luna16_SegData\\subset1\\1.3.6.1.4.1.14519.5.2.1.6279.6001.208737629504245244513001631764.mhd\n",
      "1.3.6.1.4.1.14519.5.2.1.6279.6001.216652640878960522552873394709.mhd\n",
      "D:\\LUNA\\Luna16_SegData\\subset1\\1.3.6.1.4.1.14519.5.2.1.6279.6001.216652640878960522552873394709.mhd\n",
      "1.3.6.1.4.1.14519.5.2.1.6279.6001.222087811960706096424718056430.mhd\n",
      "D:\\LUNA\\Luna16_SegData\\subset1\\1.3.6.1.4.1.14519.5.2.1.6279.6001.222087811960706096424718056430.mhd\n",
      "1.3.6.1.4.1.14519.5.2.1.6279.6001.226456162308124493341905600418.mhd\n",
      "D:\\LUNA\\Luna16_SegData\\subset1\\1.3.6.1.4.1.14519.5.2.1.6279.6001.226456162308124493341905600418.mhd\n",
      "1.3.6.1.4.1.14519.5.2.1.6279.6001.231002159523969307155990628066.mhd\n",
      "D:\\LUNA\\Luna16_SegData\\subset1\\1.3.6.1.4.1.14519.5.2.1.6279.6001.231002159523969307155990628066.mhd\n",
      "1.3.6.1.4.1.14519.5.2.1.6279.6001.231834776365874788440767645596.mhd\n",
      "D:\\LUNA\\Luna16_SegData\\subset1\\1.3.6.1.4.1.14519.5.2.1.6279.6001.231834776365874788440767645596.mhd\n",
      "1.3.6.1.4.1.14519.5.2.1.6279.6001.243094273518213382155770295147.mhd\n"
     ]
    }
   ],
   "source": [
    "write_root_1 = \"D:\\\\LUNA\\\\Luna16_AugData\"\n",
    "if not os.path.exists(write_root_1):\n",
    "    os.mkdir(\"D:\\\\LUNA\\\\Luna16_AugData\")\n",
    "write_root_2 = \"D:\\\\LUNA\\\\Luna16_SegData\"\n",
    "if not os.path.exists(write_root_2):\n",
    "    os.mkdir(\"D:\\\\LUNA\\\\Luna16_SegData\")\n",
    "    \n",
    "# read_root = \"C:\\\\Users\\\\oplab\\\\Desktop\\\\Luna16_data\\\\Luna16_img\"\n",
    "read_root = \"D:\\\\LUNA\\\\Luna16_AugData\"\n",
    "    \n",
    "append = True\n",
    "\n",
    "# split to train test\n",
    "for sub_root in os.listdir(read_root):\n",
    "    root = os.path.join(read_root, sub_root)\n",
    "    print(root)\n",
    "    for path in os.listdir(root):\n",
    "        if path.find(\"mhd\") >= 0:\n",
    "            raw_path_1 = os.path.join(write_root_1, sub_root, path)\n",
    "            exist_path_1 =  glob.glob(os.path.join(write_root_1, sub_root, path))\n",
    "            raw_path_2 = os.path.join(write_root_2, sub_root, path)\n",
    "            exist_path_2 =  glob.glob(os.path.join(write_root_2, sub_root, path))\n",
    "            if (exist_path_1 != [] and exist_path_2 != [] and append):\n",
    "                print(\"pass\")\n",
    "                continue\n",
    "            print(path)\n",
    "            imagePath = os.path.join(root, path)\n",
    "            ct_mhd = sitk.ReadImage(imagePath)\n",
    "            if ct_mhd.GetDimension()==4 and ct_mhd.GetSize()[3]==1:\n",
    "                ct_mhd = ct_mhd[...,0]\n",
    "            origin = sitk.GetArrayFromImage(ct_mhd)\n",
    "#             augmented = augment(origin, model_best, device)\n",
    "#             hu_a = np.array(augmented, dtype=np.float32)\n",
    "#             # Load or create a SimpleITK image\n",
    "#             current_origin = ct_mhd.GetOrigin()\n",
    "#             current_spacing = ct_mhd.GetSpacing()\n",
    "\n",
    "#             sitk_image = sitk.GetImageFromArray(augmented)\n",
    "#             # image_short = sitk.Cast(image, sitk.sitkInt16)\n",
    "\n",
    "#             # Set the image origin, spacing, and direction (modify as needed)\n",
    "#             sitk_image.SetOrigin((current_origin[0], current_origin[1], current_origin[2]))\n",
    "#             sitk_image.SetSpacing((current_spacing[0], current_spacing[1], current_spacing[2] / 2))\n",
    "\n",
    "#             # Save the image as a MetaImage file\n",
    "#             if not os.path.exists(os.path.join(write_root_1, sub_root)):\n",
    "#                 os.mkdir(os.path.join(write_root_1, sub_root))\n",
    "#             print(os.path.join(write_root_1, sub_root, path))\n",
    "#             sitk.WriteImage(sitk_image, raw_path_1) \n",
    "            \n",
    "           # segment part\n",
    "            segmented = segment(origin, model, device)\n",
    "            hu_a = np.array(segmented, dtype=np.float32)\n",
    "            # Load or create a SimpleITK image\n",
    "            current_origin = ct_mhd.GetOrigin()\n",
    "            current_spacing = ct_mhd.GetSpacing()\n",
    "\n",
    "            sitk_image = sitk.GetImageFromArray(segmented)\n",
    "            # image_short = sitk.Cast(image, sitk.sitkInt16)\n",
    "\n",
    "            # Set the image origin, spacing, and direction (modify as needed)\n",
    "            sitk_image.SetOrigin((current_origin[0], current_origin[1], current_origin[2]))\n",
    "            sitk_image.SetSpacing((current_spacing[0], current_spacing[1], current_spacing[2]))\n",
    "\n",
    "            # Save the image as a MetaImage file\n",
    "            if not os.path.exists(os.path.join(write_root_2, sub_root)):\n",
    "                os.mkdir(os.path.join(write_root_2, sub_root))\n",
    "            print(os.path.join(write_root_2, sub_root, path))\n",
    "            sitk.WriteImage(sitk_image, raw_path_2) "
   ]
  },
  {
   "cell_type": "code",
   "execution_count": null,
   "id": "8b6133ef-f458-4418-b11c-7d28cadb4763",
   "metadata": {
    "tags": []
   },
   "outputs": [],
   "source": [
    "print(raw_path)"
   ]
  },
  {
   "cell_type": "code",
   "execution_count": null,
   "id": "4fc64d51-920e-4cf5-823f-ad9d5f2a9b7c",
   "metadata": {
    "tags": []
   },
   "outputs": [],
   "source": [
    "os.path.join(write_root, sub_root, path)"
   ]
  },
  {
   "cell_type": "code",
   "execution_count": null,
   "id": "4832eb68-71fa-4f1e-9b89-163e5b53de1e",
   "metadata": {
    "tags": []
   },
   "outputs": [],
   "source": [
    "glob.glob(os.path.join(write_root, sub_root, path))"
   ]
  },
  {
   "cell_type": "code",
   "execution_count": null,
   "id": "24c22338-bcf6-4822-ac9b-c5329ac79e48",
   "metadata": {
    "tags": []
   },
   "outputs": [],
   "source": [
    "sitk.WriteImage(sitk_image, \"D://udet//augmented//{}.raw\".format(series_uid)) "
   ]
  },
  {
   "cell_type": "code",
   "execution_count": null,
   "id": "ad722f6d-2ae6-435b-ab7a-5badf073a33a",
   "metadata": {
    "tags": []
   },
   "outputs": [],
   "source": [
    "npy_path = glob.glob('./augmented_segmented/{}.npy'.format(\"1.3.6.1.4.1.14519.5.2.1.6279.6001.287966244644280690737019247886\"))"
   ]
  },
  {
   "cell_type": "code",
   "execution_count": null,
   "id": "8a4b95a8-0447-42e0-81b1-9f587b57ed07",
   "metadata": {
    "tags": []
   },
   "outputs": [],
   "source": [
    "npy_path"
   ]
  },
  {
   "cell_type": "code",
   "execution_count": null,
   "id": "6d56b276-3b8c-4a46-ac2e-67d41e37d3d4",
   "metadata": {
    "tags": []
   },
   "outputs": [],
   "source": [
    "if (npy_path != [] and append):\n",
    "        print(\"pass\")"
   ]
  },
  {
   "cell_type": "code",
   "execution_count": null,
   "id": "3b1aba11-fac9-45f1-9e4b-449a88703135",
   "metadata": {
    "tags": []
   },
   "outputs": [],
   "source": [
    "np.save(\"./augmented_segmented/{}.npy\".format(series_uid), hu_a)"
   ]
  }
 ],
 "metadata": {
  "kernelspec": {
   "display_name": "Python 3 (ipykernel)",
   "language": "python",
   "name": "python3"
  },
  "language_info": {
   "codemirror_mode": {
    "name": "ipython",
    "version": 3
   },
   "file_extension": ".py",
   "mimetype": "text/x-python",
   "name": "python",
   "nbconvert_exporter": "python",
   "pygments_lexer": "ipython3",
   "version": "3.11.5"
  }
 },
 "nbformat": 4,
 "nbformat_minor": 5
}
