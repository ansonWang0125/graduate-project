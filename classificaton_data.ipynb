{
 "cells": [
  {
   "cell_type": "code",
   "execution_count": null,
   "id": "96984df1-acf9-4486-9729-9ad7c81d7fa8",
   "metadata": {},
   "outputs": [],
   "source": [
    "mhd_list = glob.glob('F:/Luna16_new2_data/Luna16_img/subset*/*.mhd')\n",
    "# mhd_list = glob.glob('C:/Users/oplab/Desktop/Luna16_data/Luna16_img/subset0/*.mhd')\n",
    "# mhd_list = glob.glob('../Luna_Test_Data/subset*/*.mhd')\n",
    "# print(mhd_list)\n",
    "presentOnDisk_set = {os.path.split(p)[-1][:-4] for p in mhd_list}\n",
    "\n",
    "candidateInfo_list = []\n",
    "with open('C:/Users/oplab/Desktop/Luna16_data/annotations_with_malignancy.csv', \"r\") as f:\n",
    "    for row in list(csv.reader(f))[1:]:\n",
    "        series_uid = row[0]\n",
    "        annotationCenter_xyz = tuple([float(x) for x in row[1:4]])\n",
    "        annotationDiameter_mm = float(row[4])\n",
    "        isMal_bool = {'False': False, 'True': True}[row[5]] #it record the malignancy or not\n",
    "\n",
    "        if series_uid not in presentOnDisk_set and requireOnDisk_bool:\n",
    "            continue\n",
    "\n",
    "        candidateInfo_list.append(\n",
    "            CandidateInfoTuple(\n",
    "                True,\n",
    "                True,\n",
    "                isMal_bool,\n",
    "                annotationDiameter_mm,\n",
    "                series_uid,\n",
    "                annotationCenter_xyz,\n",
    "            )\n",
    "        )\n",
    "\n",
    "with open('C:/Users/oplab/Desktop/Luna16_data/candidates_V2.csv', \"r\") as f:\n",
    "    for row in list(csv.reader(f))[1:]:\n",
    "        series_uid = row[0]\n",
    "\n",
    "        if series_uid not in presentOnDisk_set and requireOnDisk_bool:\n",
    "            continue\n",
    "\n",
    "        isNodule_bool = bool(int(row[4]))\n",
    "        candidateCenter_xyz = tuple([float(x) for x in row[1:4]])\n",
    "\n",
    "        if not isNodule_bool:\n",
    "            candidateInfo_list.append(\n",
    "                CandidateInfoTuple(\n",
    "                    False,\n",
    "                    False,\n",
    "                    False,\n",
    "                    0.0,\n",
    "                    series_uid,\n",
    "                    candidateCenter_xyz,\n",
    "                )\n",
    "            )\n",
    "\n",
    "candidateInfo_list.sort(reverse=True)"
   ]
  },
  {
   "cell_type": "code",
   "execution_count": null,
   "id": "825d1c24-1a5b-4a32-be83-5bbb9470c71b",
   "metadata": {},
   "outputs": [],
   "source": []
  }
 ],
 "metadata": {
  "kernelspec": {
   "display_name": "Python 3 (ipykernel)",
   "language": "python",
   "name": "python3"
  },
  "language_info": {
   "codemirror_mode": {
    "name": "ipython",
    "version": 3
   },
   "file_extension": ".py",
   "mimetype": "text/x-python",
   "name": "python",
   "nbconvert_exporter": "python",
   "pygments_lexer": "ipython3",
   "version": "3.11.4"
  }
 },
 "nbformat": 4,
 "nbformat_minor": 5
}
